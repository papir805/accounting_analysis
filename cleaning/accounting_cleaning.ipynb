{
 "cells": [
  {
   "cell_type": "markdown",
   "metadata": {},
   "source": [
    "# Data Cleaning\n",
    "Import standard modules, along with `report_nulls`, which is a custom script that shows the number of NaN values in each column as well as their proportions."
   ]
  },
  {
   "cell_type": "code",
   "execution_count": 1,
   "metadata": {},
   "outputs": [],
   "source": [
    "import pandas as pd\n",
    "import numpy as np\n",
    "import matplotlib.pyplot as plt\n",
    "from report_nulls import report_nulls\n",
    "%matplotlib inline"
   ]
  },
  {
   "cell_type": "code",
   "execution_count": 2,
   "metadata": {},
   "outputs": [],
   "source": [
    "original_accounting = pd.read_csv('./accounting_original.csv')"
   ]
  },
  {
   "cell_type": "code",
   "execution_count": 3,
   "metadata": {},
   "outputs": [
    {
     "data": {
      "text/html": [
       "<div>\n",
       "<style scoped>\n",
       "    .dataframe tbody tr th:only-of-type {\n",
       "        vertical-align: middle;\n",
       "    }\n",
       "\n",
       "    .dataframe tbody tr th {\n",
       "        vertical-align: top;\n",
       "    }\n",
       "\n",
       "    .dataframe thead th {\n",
       "        text-align: right;\n",
       "    }\n",
       "</style>\n",
       "<table border=\"1\" class=\"dataframe\">\n",
       "  <thead>\n",
       "    <tr style=\"text-align: right;\">\n",
       "      <th></th>\n",
       "      <th>Timestamp</th>\n",
       "      <th>Firm exit status</th>\n",
       "      <th>Do you have your CPA license?</th>\n",
       "      <th>How many years of experience in accounting do you have? (If none please skip)</th>\n",
       "      <th>What is your current salary + bonus in USD? (Example Format: 50000) (If none please skip)</th>\n",
       "      <th>If you have exited a public accounting firm, how many years did you work in public accounting before exiting? (Please skip if this doesn't apply to you)</th>\n",
       "      <th>What industry do you work in?</th>\n",
       "      <th>What COL is your region?</th>\n",
       "      <th>Where do you live?</th>\n",
       "      <th>Gender</th>\n",
       "      <th>What is your line of service? (Or was in the case of those who have exited)</th>\n",
       "      <th>How many hours do you currently work per week on average?</th>\n",
       "    </tr>\n",
       "  </thead>\n",
       "  <tbody>\n",
       "    <tr>\n",
       "      <th>0</th>\n",
       "      <td>7/28/2020 20:23:11</td>\n",
       "      <td>I am still in school</td>\n",
       "      <td>No</td>\n",
       "      <td>0.0</td>\n",
       "      <td>NaN</td>\n",
       "      <td>NaN</td>\n",
       "      <td>NaN</td>\n",
       "      <td>High</td>\n",
       "      <td>United States</td>\n",
       "      <td>Male</td>\n",
       "      <td>NaN</td>\n",
       "      <td>NaN</td>\n",
       "    </tr>\n",
       "    <tr>\n",
       "      <th>1</th>\n",
       "      <td>7/29/2020 6:37:52</td>\n",
       "      <td>I am currently working at a Big 4 accounting firm</td>\n",
       "      <td>No</td>\n",
       "      <td>0.0</td>\n",
       "      <td>100,000</td>\n",
       "      <td>NaN</td>\n",
       "      <td>Public Accounting</td>\n",
       "      <td>Medium</td>\n",
       "      <td>United States</td>\n",
       "      <td>Female</td>\n",
       "      <td>Tax</td>\n",
       "      <td>NaN</td>\n",
       "    </tr>\n",
       "    <tr>\n",
       "      <th>2</th>\n",
       "      <td>7/31/2020 12:35:59</td>\n",
       "      <td>I am currently working at a Big 4 accounting firm</td>\n",
       "      <td>No</td>\n",
       "      <td>0.0</td>\n",
       "      <td>63000</td>\n",
       "      <td>NaN</td>\n",
       "      <td>Public Accounting</td>\n",
       "      <td>High</td>\n",
       "      <td>United States</td>\n",
       "      <td>Male</td>\n",
       "      <td>Audit</td>\n",
       "      <td>50.0</td>\n",
       "    </tr>\n",
       "    <tr>\n",
       "      <th>3</th>\n",
       "      <td>7/31/2020 16:42:05</td>\n",
       "      <td>I am currently working at a mid-tier or local ...</td>\n",
       "      <td>No</td>\n",
       "      <td>0.0</td>\n",
       "      <td>61000</td>\n",
       "      <td>NaN</td>\n",
       "      <td>Public Accounting</td>\n",
       "      <td>High</td>\n",
       "      <td>United States</td>\n",
       "      <td>Male</td>\n",
       "      <td>Tax</td>\n",
       "      <td>50.0</td>\n",
       "    </tr>\n",
       "    <tr>\n",
       "      <th>4</th>\n",
       "      <td>8/3/2020 2:00:26</td>\n",
       "      <td>I am currently working at a mid-tier or local ...</td>\n",
       "      <td>No</td>\n",
       "      <td>0.0</td>\n",
       "      <td>67000</td>\n",
       "      <td>NaN</td>\n",
       "      <td>Public Accounting</td>\n",
       "      <td>High</td>\n",
       "      <td>United States</td>\n",
       "      <td>Male</td>\n",
       "      <td>Process Automation (Python)</td>\n",
       "      <td>40.0</td>\n",
       "    </tr>\n",
       "  </tbody>\n",
       "</table>\n",
       "</div>"
      ],
      "text/plain": [
       "            Timestamp                                   Firm exit status  \\\n",
       "0  7/28/2020 20:23:11                               I am still in school   \n",
       "1   7/29/2020 6:37:52  I am currently working at a Big 4 accounting firm   \n",
       "2  7/31/2020 12:35:59  I am currently working at a Big 4 accounting firm   \n",
       "3  7/31/2020 16:42:05  I am currently working at a mid-tier or local ...   \n",
       "4    8/3/2020 2:00:26  I am currently working at a mid-tier or local ...   \n",
       "\n",
       "  Do you have your CPA license?  \\\n",
       "0                            No   \n",
       "1                            No   \n",
       "2                            No   \n",
       "3                            No   \n",
       "4                            No   \n",
       "\n",
       "   How many years of experience in accounting do you have? (If none please skip)  \\\n",
       "0                                                0.0                               \n",
       "1                                                0.0                               \n",
       "2                                                0.0                               \n",
       "3                                                0.0                               \n",
       "4                                                0.0                               \n",
       "\n",
       "  What is your current salary + bonus in USD? (Example Format: 50000) (If none please skip)  \\\n",
       "0                                                NaN                                          \n",
       "1                                            100,000                                          \n",
       "2                                              63000                                          \n",
       "3                                              61000                                          \n",
       "4                                              67000                                          \n",
       "\n",
       "   If you have exited a public accounting firm, how many years did you work in public accounting before exiting? (Please skip if this doesn't apply to you)  \\\n",
       "0                                                NaN                                                                                                          \n",
       "1                                                NaN                                                                                                          \n",
       "2                                                NaN                                                                                                          \n",
       "3                                                NaN                                                                                                          \n",
       "4                                                NaN                                                                                                          \n",
       "\n",
       "  What industry do you work in? What COL is your region? Where do you live?  \\\n",
       "0                           NaN                     High      United States   \n",
       "1             Public Accounting                   Medium      United States   \n",
       "2             Public Accounting                     High      United States   \n",
       "3             Public Accounting                     High      United States   \n",
       "4             Public Accounting                     High      United States   \n",
       "\n",
       "   Gender  \\\n",
       "0    Male   \n",
       "1  Female   \n",
       "2    Male   \n",
       "3    Male   \n",
       "4    Male   \n",
       "\n",
       "  What is your line of service? (Or was in the case of those who have exited)  \\\n",
       "0                                                NaN                            \n",
       "1                                                Tax                            \n",
       "2                                              Audit                            \n",
       "3                                                Tax                            \n",
       "4                        Process Automation (Python)                            \n",
       "\n",
       "   How many hours do you currently work per week on average?   \n",
       "0                                                NaN           \n",
       "1                                                NaN           \n",
       "2                                               50.0           \n",
       "3                                               50.0           \n",
       "4                                               40.0           "
      ]
     },
     "execution_count": 3,
     "metadata": {},
     "output_type": "execute_result"
    }
   ],
   "source": [
    "original_accounting.head()"
   ]
  },
  {
   "cell_type": "markdown",
   "metadata": {},
   "source": [
    "## First we begin by getting a sense of the data and what will need cleaning"
   ]
  },
  {
   "cell_type": "markdown",
   "metadata": {},
   "source": [
    "I'm going to drop timestamp column, the time at which someone responded to the survey, as this information won't help in our analysis."
   ]
  },
  {
   "cell_type": "code",
   "execution_count": 4,
   "metadata": {},
   "outputs": [
    {
     "data": {
      "text/plain": [
       "Index(['Firm exit status', 'Do you have your CPA license?',\n",
       "       'How many years of experience in accounting do you have? (If none please skip)',\n",
       "       'What is your current salary + bonus in USD? (Example Format: 50000) (If none please skip)',\n",
       "       'If you have exited a public accounting firm, how many years did you work in public accounting before exiting? (Please skip if this doesn't apply to you)',\n",
       "       'What industry do you work in?', 'What COL is your region?',\n",
       "       'Where do you live?', 'Gender',\n",
       "       'What is your line of service? (Or was in the case of those who have exited)',\n",
       "       'How many hours do you currently work per week on average? '],\n",
       "      dtype='object')"
      ]
     },
     "execution_count": 4,
     "metadata": {},
     "output_type": "execute_result"
    }
   ],
   "source": [
    "accounting = original_accounting.drop(columns='Timestamp').copy(deep=True)\n",
    "accounting.columns"
   ]
  },
  {
   "cell_type": "markdown",
   "metadata": {},
   "source": [
    "Next, rename the columns to more manageable names"
   ]
  },
  {
   "cell_type": "code",
   "execution_count": 5,
   "metadata": {},
   "outputs": [
    {
     "data": {
      "text/plain": [
       "Index(['Exit Status', 'Has CPA', 'Years Experience', 'Current Salary + Bonus',\n",
       "       'Years Public Before Exit', 'Current Industry',\n",
       "       'What COL is your region?', 'Residency', 'Gender', 'Line of Service',\n",
       "       'Average Hours Per Week'],\n",
       "      dtype='object')"
      ]
     },
     "execution_count": 5,
     "metadata": {},
     "output_type": "execute_result"
    }
   ],
   "source": [
    "accounting.columns = ['Exit Status', \n",
    "                      'Has CPA', \n",
    "                      'Years Experience', \n",
    "                      'Current Salary + Bonus',\n",
    "                      \"Years Public Before Exit\",\n",
    "                      'Current Industry',\n",
    "                      'What COL is your region?',\n",
    "                      'Residency',\n",
    "                      'Gender',\n",
    "                      'Line of Service',\n",
    "                      'Average Hours Per Week']\n",
    "accounting.columns"
   ]
  },
  {
   "cell_type": "markdown",
   "metadata": {},
   "source": [
    "Run `report_nulls` to see a report on NaN values by columns.  It looks like all columns have some NaN values we'll have to deal with, although the percentages of NaN values are relatively small for most columns, with a few exceptions."
   ]
  },
  {
   "cell_type": "code",
   "execution_count": 6,
   "metadata": {},
   "outputs": [
    {
     "name": "stdout",
     "output_type": "stream",
     "text": [
      "The column Exit Status has 25 null values.  It is 1.76% of total rows.\n",
      "\n",
      "The column Has CPA has 27 null values.  It is 1.9% of total rows.\n",
      "\n",
      "The column Years Experience has 166 null values.  It is 11.69% of total rows.\n",
      "\n",
      "The column Current Salary + Bonus has 86 null values.  It is 6.06% of total rows.\n",
      "\n",
      "The column Years Public Before Exit has 1171 null values.  It is 82.46% of total rows.\n",
      "\n",
      "The column Current Industry has 67 null values.  It is 4.72% of total rows.\n",
      "\n",
      "The column What COL is your region? has 89 null values.  It is 6.27% of total rows.\n",
      "\n",
      "The column Residency has 37 null values.  It is 2.61% of total rows.\n",
      "\n",
      "The column Gender has 40 null values.  It is 2.82% of total rows.\n",
      "\n",
      "The column Line of Service has 176 null values.  It is 12.39% of total rows.\n",
      "\n",
      "The column Average Hours Per Week has 694 null values.  It is 48.87% of total rows.\n",
      "\n",
      "The Data Frame has 11 columns with null values.  It is 100.0% of total columns.\n"
     ]
    },
    {
     "data": {
      "text/plain": [
       "['Exit Status',\n",
       " 'Has CPA',\n",
       " 'Years Experience',\n",
       " 'Current Salary + Bonus',\n",
       " 'Years Public Before Exit',\n",
       " 'Current Industry',\n",
       " 'What COL is your region?',\n",
       " 'Residency',\n",
       " 'Gender',\n",
       " 'Line of Service',\n",
       " 'Average Hours Per Week']"
      ]
     },
     "execution_count": 6,
     "metadata": {},
     "output_type": "execute_result"
    }
   ],
   "source": [
    "report_nulls(accounting)"
   ]
  },
  {
   "cell_type": "markdown",
   "metadata": {},
   "source": [
    "`Current Salary + Bonus` will need to be recast to float values"
   ]
  },
  {
   "cell_type": "code",
   "execution_count": 7,
   "metadata": {},
   "outputs": [
    {
     "data": {
      "text/plain": [
       "Exit Status                  object\n",
       "Has CPA                      object\n",
       "Years Experience            float64\n",
       "Current Salary + Bonus       object\n",
       "Years Public Before Exit    float64\n",
       "Current Industry             object\n",
       "What COL is your region?     object\n",
       "Residency                    object\n",
       "Gender                       object\n",
       "Line of Service              object\n",
       "Average Hours Per Week      float64\n",
       "dtype: object"
      ]
     },
     "execution_count": 7,
     "metadata": {},
     "output_type": "execute_result"
    }
   ],
   "source": [
    "accounting.dtypes"
   ]
  },
  {
   "cell_type": "markdown",
   "metadata": {},
   "source": [
    "The vast majority of the data set comes from the US, approximately 87%"
   ]
  },
  {
   "cell_type": "code",
   "execution_count": 8,
   "metadata": {},
   "outputs": [
    {
     "name": "stdout",
     "output_type": "stream",
     "text": [
      "United States            1201\n",
      "Canada                     96\n",
      "EU                         36\n",
      "Australia/New Zealand      26\n",
      "Latin America               4\n",
      "Middle East                 3\n",
      "UK                          3\n",
      "East Asia                   2\n",
      "United Kingdom              2\n",
      "South East Asia             2\n",
      "Caribbean                   1\n",
      "Singapore                   1\n",
      "Norway                      1\n",
      "Pacific Islands             1\n",
      "United Kingdom              1\n",
      "Malaysia                    1\n",
      "Turkey                      1\n",
      "India                       1\n",
      "\n",
      "\n",
      "United States            0.868402\n",
      "Canada                   0.069414\n",
      "EU                       0.026030\n",
      "Australia/New Zealand    0.018800\n",
      "Latin America            0.002892\n",
      "Middle East              0.002169\n",
      "UK                       0.002169\n",
      "East Asia                0.001446\n",
      "United Kingdom           0.001446\n",
      "South East Asia          0.001446\n",
      "Caribbean                0.000723\n",
      "Singapore                0.000723\n",
      "Norway                   0.000723\n",
      "Pacific Islands          0.000723\n",
      "United Kingdom           0.000723\n",
      "Malaysia                 0.000723\n",
      "Turkey                   0.000723\n",
      "India                    0.000723\n"
     ]
    }
   ],
   "source": [
    "print(accounting['Residency'].value_counts().to_string())\n",
    "print()\n",
    "print()\n",
    "print(accounting['Residency'].value_counts(normalize=True).to_string())"
   ]
  },
  {
   "cell_type": "markdown",
   "metadata": {},
   "source": [
    "Let's extract just the entries from the US and perform an analysis there, the sample size will still be fairly large at 1201 accountants in the US"
   ]
  },
  {
   "cell_type": "code",
   "execution_count": 9,
   "metadata": {},
   "outputs": [
    {
     "data": {
      "text/plain": [
       "(1201, 10)"
      ]
     },
     "execution_count": 9,
     "metadata": {},
     "output_type": "execute_result"
    }
   ],
   "source": [
    "us_accounting = accounting[accounting['Residency'] == 'United States'].reset_index()\n",
    "us_accounting.drop(labels=['index', 'Residency'], axis=1, inplace=True)\n",
    "us_accounting.shape"
   ]
  },
  {
   "cell_type": "markdown",
   "metadata": {},
   "source": [
    "## Cleaning column by column"
   ]
  },
  {
   "cell_type": "markdown",
   "metadata": {},
   "source": [
    "### Cleaning the `'Current Salary + Bonus'` column"
   ]
  },
  {
   "cell_type": "markdown",
   "metadata": {},
   "source": [
    "The Current Salary + Bonus column needs a lot of cleaning.  Looking at the unique values of this column gives a better sense of what needs to be cleaned/dropped.  These values are all strings and need to be converted to floats, in addition to clearing out entries that have currency symbols, commas, etc."
   ]
  },
  {
   "cell_type": "code",
   "execution_count": 10,
   "metadata": {},
   "outputs": [
    {
     "data": {
      "text/plain": [
       "array([nan, '100,000', '63000', '61000', '67000', '62000', '100000',\n",
       "       '81000', '105000', '56000', '48000', '45000', '57249', '60000',\n",
       "       '54500', '52000', '65000', '64000', '58000', '50,000', '19.50 HR',\n",
       "       '53000', '71000', '44000', '55,000', '$57,000', '72000', '62,000',\n",
       "       '73000', '53,000', '70000', '$33,600', '56500', '66000', '71500',\n",
       "       '54000', '55000', '54,000', '63130', '57000', '59000', '55680.5',\n",
       "       '55500', '47000', '51000', '35000', '66200', '40000', '49000',\n",
       "       '79000', '54912', '69000', '61500', '62500', '37000', '68000',\n",
       "       '50000', '68250', '57500', '47500', '56420', '46500', '115000',\n",
       "       '80000', '26000', '60,000', '73800', '76000', '52500', '77000',\n",
       "       '62300', '87000', '$61,000', '40,000', '56808', '75000', '80099',\n",
       "       '67500', '66,000', '82000', '64890', '85000', '74100', '72900',\n",
       "       '68500', '53600', '71200', '102000', '73500', '88000', '78000',\n",
       "       '59500', '65500', '75900', '38000', '67400', '8400', '58300',\n",
       "       '63500', '64500', '57200', '93000', '59400', '70600', '55130',\n",
       "       '83000', '39000', '74000', '60900', '50800', '42000', '74500',\n",
       "       '46000', '66,600', '68,000', '105,000', '120000', '58,275',\n",
       "       '$85,000', '93450', '90,000', '90000', '70500', '49500', '160000',\n",
       "       '96000', '83750', '84000', '92400', '55127', '48500', '69750',\n",
       "       '95000', '110000', '94000', '66500', '72,000', '125000', '66675',\n",
       "       '97000', '46600', '63100', '64,000', '77050', '72500', '77500',\n",
       "       '70,000', '80,000', '99000', '154000', '91100', '145000', '132000',\n",
       "       '107000', '69500', '150000', '90500', '92000', '84690', '106000',\n",
       "       '103000', '135000', '63875', '109000', '170000', '86250', '76700',\n",
       "       '155000', '116000', '133000', '80500', '73195', '86000', '117200',\n",
       "       '83400', '130000', '98500', '93600', '113000', '80800', '67600',\n",
       "       '107500', '112000', '82862', '$60,000', '140,000', '108000',\n",
       "       '83,000', '140000', '175000', '97500', '111500', '188000',\n",
       "       '119000', '112500', '240000', '130,000', '101,000', '117000',\n",
       "       '88,000', '220000', '107800', '149.5', '101000', '104000', '98000',\n",
       "       '95400', '93170', '115,000', '111000', '73k', '108500', '53250',\n",
       "       '91000', '120,000', '138000', '118000', '142000', '122000',\n",
       "       '114000', '192000', '121500', '180000', '200000', '144600',\n",
       "       '156000', '167000', '250000', '77,500', '156800', '205000',\n",
       "       '185000', '162000', '143000', '255000', '530000', '245000',\n",
       "       '152000', '155,000', '190000', '750000', '120300', '187500',\n",
       "       '46020', '230000', '61,000', '30000', '57700', '171900', '54200',\n",
       "       '225000', '69700', '305000', '50321', '128000', '82500', '123000',\n",
       "       '101500', '300000', '54600', '141000', '176250', '148000',\n",
       "       '340000', '127600', '63300', '136000', '55400', '196000', '25000',\n",
       "       '265000', '195000', '58350', '403000', '51200', '75141', '78500',\n",
       "       '53550', '415000', '400000', '74250', '550000', '66150', '173000',\n",
       "       '149500', '66900'], dtype=object)"
      ]
     },
     "execution_count": 10,
     "metadata": {},
     "output_type": "execute_result"
    }
   ],
   "source": [
    "us_accounting['Current Salary + Bonus'].unique()"
   ]
  },
  {
   "cell_type": "markdown",
   "metadata": {},
   "source": [
    "Let's start by cleaning/dropping other values that don't make sense.  With NaN values in many categories and a Hourly Salary, but unknown hours per week, I will drop this entry"
   ]
  },
  {
   "cell_type": "code",
   "execution_count": 11,
   "metadata": {},
   "outputs": [
    {
     "data": {
      "text/html": [
       "<div>\n",
       "<style scoped>\n",
       "    .dataframe tbody tr th:only-of-type {\n",
       "        vertical-align: middle;\n",
       "    }\n",
       "\n",
       "    .dataframe tbody tr th {\n",
       "        vertical-align: top;\n",
       "    }\n",
       "\n",
       "    .dataframe thead th {\n",
       "        text-align: right;\n",
       "    }\n",
       "</style>\n",
       "<table border=\"1\" class=\"dataframe\">\n",
       "  <thead>\n",
       "    <tr style=\"text-align: right;\">\n",
       "      <th></th>\n",
       "      <th>Exit Status</th>\n",
       "      <th>Has CPA</th>\n",
       "      <th>Years Experience</th>\n",
       "      <th>Current Salary + Bonus</th>\n",
       "      <th>Years Public Before Exit</th>\n",
       "      <th>Current Industry</th>\n",
       "      <th>What COL is your region?</th>\n",
       "      <th>Gender</th>\n",
       "      <th>Line of Service</th>\n",
       "      <th>Average Hours Per Week</th>\n",
       "    </tr>\n",
       "  </thead>\n",
       "  <tbody>\n",
       "    <tr>\n",
       "      <th>26</th>\n",
       "      <td>I am still in school</td>\n",
       "      <td>No</td>\n",
       "      <td>NaN</td>\n",
       "      <td>19.50 HR</td>\n",
       "      <td>NaN</td>\n",
       "      <td>Agriculture/Food processing</td>\n",
       "      <td>Medium</td>\n",
       "      <td>Male</td>\n",
       "      <td>Corporate accounting</td>\n",
       "      <td>NaN</td>\n",
       "    </tr>\n",
       "  </tbody>\n",
       "</table>\n",
       "</div>"
      ],
      "text/plain": [
       "             Exit Status Has CPA  Years Experience Current Salary + Bonus  \\\n",
       "26  I am still in school      No               NaN               19.50 HR   \n",
       "\n",
       "    Years Public Before Exit             Current Industry  \\\n",
       "26                       NaN  Agriculture/Food processing   \n",
       "\n",
       "   What COL is your region? Gender       Line of Service  \\\n",
       "26                   Medium   Male  Corporate accounting   \n",
       "\n",
       "    Average Hours Per Week  \n",
       "26                     NaN  "
      ]
     },
     "execution_count": 11,
     "metadata": {},
     "output_type": "execute_result"
    }
   ],
   "source": [
    "us_accounting[us_accounting['Current Salary + Bonus']=='19.50 HR']"
   ]
  },
  {
   "cell_type": "code",
   "execution_count": 12,
   "metadata": {},
   "outputs": [],
   "source": [
    "us_accounting = us_accounting.drop(index = us_accounting[us_accounting['Current Salary + Bonus']=='19.50 HR'].index)"
   ]
  },
  {
   "cell_type": "markdown",
   "metadata": {},
   "source": [
    "Now I'll replace currency symbols, commas, and alter some values to make more sese."
   ]
  },
  {
   "cell_type": "code",
   "execution_count": 13,
   "metadata": {},
   "outputs": [
    {
     "name": "stderr",
     "output_type": "stream",
     "text": [
      "/Users/rancher/opt/anaconda3/lib/python3.7/site-packages/ipykernel_launcher.py:1: FutureWarning: The default value of regex will change from True to False in a future version. In addition, single character regular expressions will*not* be treated as literal strings when regex=True.\n",
      "  \"\"\"Entry point for launching an IPython kernel.\n",
      "/Users/rancher/opt/anaconda3/lib/python3.7/site-packages/ipykernel_launcher.py:3: FutureWarning: The default value of regex will change from True to False in a future version.\n",
      "  This is separate from the ipykernel package so we can avoid doing imports until\n"
     ]
    }
   ],
   "source": [
    "us_accounting['Current Salary + Bonus'] = us_accounting['Current Salary + Bonus'].str.replace('$','')\n",
    "us_accounting['Current Salary + Bonus'] = us_accounting['Current Salary + Bonus'].str.replace('73k','73000')\n",
    "us_accounting['Current Salary + Bonus'] = us_accounting['Current Salary + Bonus'].str.replace('149.5','149000')\n",
    "us_accounting['Current Salary + Bonus'] = us_accounting['Current Salary + Bonus'].str.replace(',', '')"
   ]
  },
  {
   "cell_type": "code",
   "execution_count": 14,
   "metadata": {},
   "outputs": [
    {
     "data": {
      "text/plain": [
       "array([nan, '100000', '63000', '61000', '67000', '62000', '81000',\n",
       "       '105000', '56000', '48000', '45000', '57249', '60000', '54500',\n",
       "       '52000', '65000', '64000', '58000', '50000', '53000', '71000',\n",
       "       '44000', '55000', '57000', '72000', '73000', '70000', '33600',\n",
       "       '56500', '66000', '71500', '54000', '63130', '59000', '55680.5',\n",
       "       '55500', '47000', '51000', '35000', '66200', '40000', '49000',\n",
       "       '79000', '54912', '69000', '61500', '62500', '37000', '68000',\n",
       "       '68250', '57500', '47500', '56420', '46500', '115000', '80000',\n",
       "       '26000', '73800', '76000', '52500', '77000', '62300', '87000',\n",
       "       '56808', '75000', '80099', '67500', '82000', '64890', '85000',\n",
       "       '74100', '72900', '68500', '53600', '71200', '102000', '73500',\n",
       "       '88000', '78000', '59500', '65500', '75900', '38000', '67400',\n",
       "       '8400', '58300', '63500', '64500', '57200', '93000', '59400',\n",
       "       '70600', '55130', '83000', '39000', '74000', '60900', '50800',\n",
       "       '42000', '74500', '46000', '66600', '120000', '58275', '93450',\n",
       "       '90000', '70500', '49500', '160000', '96000', '83750', '84000',\n",
       "       '92400', '55127', '48500', '69750', '95000', '110000', '94000',\n",
       "       '66500', '125000', '66675', '97000', '46600', '63100', '77050',\n",
       "       '72500', '77500', '99000', '154000', '91100', '145000', '132000',\n",
       "       '107000', '69500', '150000', '90500', '92000', '84690', '106000',\n",
       "       '103000', '135000', '63875', '109000', '170000', '86250', '76700',\n",
       "       '155000', '116000', '133000', '80500', '73195', '86000', '117200',\n",
       "       '83400', '130000', '98500', '93600', '113000', '80800', '67600',\n",
       "       '107500', '112000', '82862', '140000', '108000', '175000', '97500',\n",
       "       '111500', '188000', '119000', '112500', '240000', '101000',\n",
       "       '117000', '220000', '107800', '149000', '104000', '98000', '95400',\n",
       "       '93170', '111000', '108500', '53250', '91000', '138000', '118000',\n",
       "       '142000', '122000', '114000', '192000', '121500', '180000',\n",
       "       '200000', '144600', '156000', '167000', '250000', '156800',\n",
       "       '205000', '185000', '162000', '143000', '255000', '530000',\n",
       "       '245000', '152000', '190000', '750000', '120300', '187500',\n",
       "       '46020', '230000', '30000', '57700', '171900', '54200', '225000',\n",
       "       '69700', '305000', '50321', '128000', '82500', '123000', '101500',\n",
       "       '300000', '54600', '141000', '176250', '148000', '340000',\n",
       "       '127600', '63300', '136000', '55400', '196000', '25000', '265000',\n",
       "       '195000', '58350', '403000', '51200', '75141', '78500', '53550',\n",
       "       '415000', '400000', '74250', '550000', '66150', '173000', '149500',\n",
       "       '66900'], dtype=object)"
      ]
     },
     "execution_count": 14,
     "metadata": {},
     "output_type": "execute_result"
    }
   ],
   "source": [
    "us_accounting['Current Salary + Bonus'].unique()"
   ]
  },
  {
   "cell_type": "markdown",
   "metadata": {},
   "source": [
    "If we check the unique values, everything looks good now, aside from the NaN values, which we'll deal with soon.  Next we recast the cleaned Salary column to floats"
   ]
  },
  {
   "cell_type": "code",
   "execution_count": 15,
   "metadata": {},
   "outputs": [],
   "source": [
    "us_accounting['Current Salary + Bonus'] = us_accounting['Current Salary + Bonus'].astype(float)"
   ]
  },
  {
   "cell_type": "markdown",
   "metadata": {},
   "source": [
    "If we go back to our `original_accounting` df, I think we have a duplicate entry.  As seen below, we have two accountants where each field is identical and it's incredibly unlikely that two accountants both have 15 years of experience and are earning 750,000 annually as an accountant.  Furthermore, the timestamp for is less than a minute apart.  I'm going to drop the duplicate entry from our `us_accounting` df."
   ]
  },
  {
   "cell_type": "code",
   "execution_count": 16,
   "metadata": {},
   "outputs": [
    {
     "data": {
      "text/html": [
       "<div>\n",
       "<style scoped>\n",
       "    .dataframe tbody tr th:only-of-type {\n",
       "        vertical-align: middle;\n",
       "    }\n",
       "\n",
       "    .dataframe tbody tr th {\n",
       "        vertical-align: top;\n",
       "    }\n",
       "\n",
       "    .dataframe thead th {\n",
       "        text-align: right;\n",
       "    }\n",
       "</style>\n",
       "<table border=\"1\" class=\"dataframe\">\n",
       "  <thead>\n",
       "    <tr style=\"text-align: right;\">\n",
       "      <th></th>\n",
       "      <th>Timestamp</th>\n",
       "      <th>Firm exit status</th>\n",
       "      <th>Do you have your CPA license?</th>\n",
       "      <th>How many years of experience in accounting do you have? (If none please skip)</th>\n",
       "      <th>What is your current salary + bonus in USD? (Example Format: 50000) (If none please skip)</th>\n",
       "      <th>If you have exited a public accounting firm, how many years did you work in public accounting before exiting? (Please skip if this doesn't apply to you)</th>\n",
       "      <th>What industry do you work in?</th>\n",
       "      <th>What COL is your region?</th>\n",
       "      <th>Where do you live?</th>\n",
       "      <th>Gender</th>\n",
       "      <th>What is your line of service? (Or was in the case of those who have exited)</th>\n",
       "      <th>How many hours do you currently work per week on average?</th>\n",
       "    </tr>\n",
       "  </thead>\n",
       "  <tbody>\n",
       "    <tr>\n",
       "      <th>1015</th>\n",
       "      <td>7/31/2020 15:58:11</td>\n",
       "      <td>I am currently working at a Big 4 accounting firm</td>\n",
       "      <td>No</td>\n",
       "      <td>15.0</td>\n",
       "      <td>750000</td>\n",
       "      <td>NaN</td>\n",
       "      <td>Other</td>\n",
       "      <td>High</td>\n",
       "      <td>United States</td>\n",
       "      <td>Prefer not to say</td>\n",
       "      <td>Tax</td>\n",
       "      <td>80.0</td>\n",
       "    </tr>\n",
       "    <tr>\n",
       "      <th>1016</th>\n",
       "      <td>7/31/2020 15:59:01</td>\n",
       "      <td>I am currently working at a Big 4 accounting firm</td>\n",
       "      <td>No</td>\n",
       "      <td>15.0</td>\n",
       "      <td>750000</td>\n",
       "      <td>NaN</td>\n",
       "      <td>Other</td>\n",
       "      <td>High</td>\n",
       "      <td>United States</td>\n",
       "      <td>Prefer not to say</td>\n",
       "      <td>Tax</td>\n",
       "      <td>80.0</td>\n",
       "    </tr>\n",
       "  </tbody>\n",
       "</table>\n",
       "</div>"
      ],
      "text/plain": [
       "               Timestamp                                   Firm exit status  \\\n",
       "1015  7/31/2020 15:58:11  I am currently working at a Big 4 accounting firm   \n",
       "1016  7/31/2020 15:59:01  I am currently working at a Big 4 accounting firm   \n",
       "\n",
       "     Do you have your CPA license?  \\\n",
       "1015                            No   \n",
       "1016                            No   \n",
       "\n",
       "      How many years of experience in accounting do you have? (If none please skip)  \\\n",
       "1015                                               15.0                               \n",
       "1016                                               15.0                               \n",
       "\n",
       "     What is your current salary + bonus in USD? (Example Format: 50000) (If none please skip)  \\\n",
       "1015                                             750000                                          \n",
       "1016                                             750000                                          \n",
       "\n",
       "      If you have exited a public accounting firm, how many years did you work in public accounting before exiting? (Please skip if this doesn't apply to you)  \\\n",
       "1015                                                NaN                                                                                                          \n",
       "1016                                                NaN                                                                                                          \n",
       "\n",
       "     What industry do you work in? What COL is your region?  \\\n",
       "1015                         Other                     High   \n",
       "1016                         Other                     High   \n",
       "\n",
       "     Where do you live?             Gender  \\\n",
       "1015      United States  Prefer not to say   \n",
       "1016      United States  Prefer not to say   \n",
       "\n",
       "     What is your line of service? (Or was in the case of those who have exited)  \\\n",
       "1015                                                Tax                            \n",
       "1016                                                Tax                            \n",
       "\n",
       "      How many hours do you currently work per week on average?   \n",
       "1015                                               80.0           \n",
       "1016                                               80.0           "
      ]
     },
     "execution_count": 16,
     "metadata": {},
     "output_type": "execute_result"
    }
   ],
   "source": [
    "us_df = original_accounting[original_accounting['Where do you live?']=='United States']\n",
    "us_df[us_df['What is your current salary + bonus in USD? (Example Format: 50000) (If none please skip)']=='750000']"
   ]
  },
  {
   "cell_type": "code",
   "execution_count": 17,
   "metadata": {},
   "outputs": [
    {
     "data": {
      "text/html": [
       "<div>\n",
       "<style scoped>\n",
       "    .dataframe tbody tr th:only-of-type {\n",
       "        vertical-align: middle;\n",
       "    }\n",
       "\n",
       "    .dataframe tbody tr th {\n",
       "        vertical-align: top;\n",
       "    }\n",
       "\n",
       "    .dataframe thead th {\n",
       "        text-align: right;\n",
       "    }\n",
       "</style>\n",
       "<table border=\"1\" class=\"dataframe\">\n",
       "  <thead>\n",
       "    <tr style=\"text-align: right;\">\n",
       "      <th></th>\n",
       "      <th>Exit Status</th>\n",
       "      <th>Has CPA</th>\n",
       "      <th>Years Experience</th>\n",
       "      <th>Current Salary + Bonus</th>\n",
       "      <th>Years Public Before Exit</th>\n",
       "      <th>Current Industry</th>\n",
       "      <th>What COL is your region?</th>\n",
       "      <th>Gender</th>\n",
       "      <th>Line of Service</th>\n",
       "      <th>Average Hours Per Week</th>\n",
       "    </tr>\n",
       "  </thead>\n",
       "  <tbody>\n",
       "    <tr>\n",
       "      <th>876</th>\n",
       "      <td>I am currently working at a Big 4 accounting firm</td>\n",
       "      <td>No</td>\n",
       "      <td>15.0</td>\n",
       "      <td>750000.0</td>\n",
       "      <td>NaN</td>\n",
       "      <td>Other</td>\n",
       "      <td>High</td>\n",
       "      <td>Prefer not to say</td>\n",
       "      <td>Tax</td>\n",
       "      <td>80.0</td>\n",
       "    </tr>\n",
       "  </tbody>\n",
       "</table>\n",
       "</div>"
      ],
      "text/plain": [
       "                                           Exit Status Has CPA  \\\n",
       "876  I am currently working at a Big 4 accounting firm      No   \n",
       "\n",
       "     Years Experience  Current Salary + Bonus  Years Public Before Exit  \\\n",
       "876              15.0                750000.0                       NaN   \n",
       "\n",
       "    Current Industry What COL is your region?             Gender  \\\n",
       "876            Other                     High  Prefer not to say   \n",
       "\n",
       "    Line of Service  Average Hours Per Week  \n",
       "876             Tax                    80.0  "
      ]
     },
     "execution_count": 17,
     "metadata": {},
     "output_type": "execute_result"
    }
   ],
   "source": [
    "drop_index = us_accounting.loc[us_accounting['Current Salary + Bonus']==750000].index[0]\n",
    "us_accounting.drop(index=drop_index, inplace=True)\n",
    "us_accounting.loc[us_accounting['Current Salary + Bonus']==750000]"
   ]
  },
  {
   "cell_type": "code",
   "execution_count": 19,
   "metadata": {},
   "outputs": [
    {
     "name": "stdout",
     "output_type": "stream",
     "text": [
      "Number of null entries in 'Current Salary + Bonus' column: 39\n",
      "Percent of null entries in 'Current Salary + Bonus' column: 3.25%\n"
     ]
    }
   ],
   "source": [
    "num_null = us_accounting[us_accounting['Current Salary + Bonus'].isnull()].shape[0]\n",
    "percent_null = round(num_null/len(us_accounting['Current Salary + Bonus'])*100, 2)\n",
    "print(\"Number of null entries in 'Current Salary + Bonus' column:\", num_null)\n",
    "print(\"Percent of null entries in 'Current Salary + Bonus' column:\", str(percent_null) + '%')"
   ]
  },
  {
   "cell_type": "markdown",
   "metadata": {},
   "source": [
    "There are 39 null entries in the Salary column, roughly 3% of all entries.  Because the distribution looks right skewed, I will impute the median for these values."
   ]
  },
  {
   "cell_type": "code",
   "execution_count": 20,
   "metadata": {},
   "outputs": [
    {
     "name": "stdout",
     "output_type": "stream",
     "text": [
      "Median Salary for US Accountants:  72000.0\n",
      "Mean Salary for US Accountants:  85801.2\n"
     ]
    },
    {
     "data": {
      "image/png": "[encoded data removed]",
      "text/plain": [
       "<Figure size 720x360 with 1 Axes>"
      ]
     },
     "metadata": {
      "needs_background": "light"
     },
     "output_type": "display_data"
    }
   ],
   "source": [
    "median_salary = us_accounting['Current Salary + Bonus'].median()\n",
    "mean_salary = us_accounting['Current Salary + Bonus'].mean()\n",
    "print('Median Salary for US Accountants: ', median_salary)\n",
    "print('Mean Salary for US Accountants: ', round(mean_salary, 2))\n",
    "plt.figure(figsize=(10,5))\n",
    "us_accounting['Current Salary + Bonus'].hist(bins=25)\n",
    "plt.axvline(median_salary, color='r', label='median')\n",
    "plt.axvline(mean_salary, color='black', linestyle='--', label='mean')\n",
    "plt.xlabel('Current Salary + Bonus')\n",
    "plt.ylabel('Count')\n",
    "plt.title('Distribution of Current Salary + Bonus for US Accountants')\n",
    "plt.legend();"
   ]
  },
  {
   "cell_type": "code",
   "execution_count": 21,
   "metadata": {},
   "outputs": [],
   "source": [
    "us_salary_median = us_accounting['Current Salary + Bonus'].median()\n",
    "us_accounting['Current Salary + Bonus'].fillna(us_salary_median, inplace=True)"
   ]
  },
  {
   "cell_type": "markdown",
   "metadata": {},
   "source": [
    "#### `'Current Salary + Bonus'` column cleared!"
   ]
  },
  {
   "cell_type": "markdown",
   "metadata": {},
   "source": [
    "### Cleaning `'Line of Service'` column"
   ]
  },
  {
   "cell_type": "markdown",
   "metadata": {},
   "source": [
    "There are a way too many unique values (93) to be useful right now, many values are duplicate entries and we can distill this list down to a few major categories."
   ]
  },
  {
   "cell_type": "code",
   "execution_count": 22,
   "metadata": {},
   "outputs": [
    {
     "name": "stdout",
     "output_type": "stream",
     "text": [
      "Number of unique Lines of Service:  93\n",
      "\n",
      "[nan 'Tax' 'Audit' 'Process Automation (Python)'\n",
      " 'Advisory - Risk/IT Advisory'\n",
      " 'Intern at big 4. salary is offer upon graduation. ' 'Consulting'\n",
      " 'Internal Audit' 'HOA MGMT' 'Audit, tax, advisory' 'FLDP'\n",
      " 'Risk Assurance (Maps to Audit at my B4)'\n",
      " 'Advisory - Transaction Services/Financial Due Diligence/Corporate Finance/Restructuring'\n",
      " 'Government' '-Advisory - Deal Advisory' 'Financial Analyst'\n",
      " 'Audit focus with some tax work' 'Payroll' 'Industry' 'Audit & tax'\n",
      " 'Assurance - Investment Performance' 'Transfer Pricing'\n",
      " 'Advisory - Other' 'Examinations and some Audit' 'Tax/GL accounting'\n",
      " 'Controller' 'Staff' 'Staff accountant' 'Audit & Tax'\n",
      " 'Financial Institution Examiner'\n",
      " '3rd Party Admin, oursourced accounting services'\n",
      " 'Outsourced accounting & tax' 'Tax and audit'\n",
      " 'Internal Audit (not outsourced/external - the Firm is my client)'\n",
      " 'State and Local Tax' 'Tax and Audit' 'AP/AR' 'Financial Reporting'\n",
      " 'Revenue ' 'Tax Jan-April, Audit July-Dec' 'Forensic' 'audit and tax'\n",
      " 'Finance' 'IT Audit' 'Regulatory' 'Operations/Revenue ' 'Industry '\n",
      " 'Audit/Tax' 'Advisory - Valuations' 'Managerial' 'FSO' 'General staff'\n",
      " 'Fund accounting/Reporting' 'General accounting'\n",
      " 'Financial Accounting Advisory' 'Property accounting ' 'na' 'Corporate'\n",
      " 'Tax/Advisory '\n",
      " 'No public. General accounting and external SEC Reporting'\n",
      " 'GAAP accounting for Insurance Company' 'Tax/Small business bookkeeping'\n",
      " 'Accounting services' 'Corp' 'Forecasting' 'M&A Tax' 'Accounts Payable'\n",
      " 'Audit and FDD' 'Audit AND Tax' 'CFO' 'Corporate accounting' 'Generalist'\n",
      " 'FP&A' 'Real estate' 'Forensics ' 'Outsourced accounting and Tax'\n",
      " 'just a receptionist :/' 'Software Engineer' 'indirect tax ' 'AR/AP'\n",
      " 'Corporate Accounting and Finance' 'Business Services' 'staff accountant'\n",
      " 'Contracting ' 'Fund Accounting' 'Both audit and tax'\n",
      " 'Financial Reporting ' 'Senior Accountant'\n",
      " 'Tax, audit, and advisory at small firm' 'Audit & Tax ' 'Audit and Tax'\n",
      " 'Statutory Accounting' 'No B4 experience']\n"
     ]
    }
   ],
   "source": [
    "print('Number of unique Lines of Service: ', len(us_accounting['Line of Service'].unique()))\n",
    "print()\n",
    "print(us_accounting['Line of Service'].unique())"
   ]
  },
  {
   "cell_type": "markdown",
   "metadata": {},
   "source": [
    "To take care of this problem, I'll create a dictionary that maps similar lines of service to the same category"
   ]
  },
  {
   "cell_type": "code",
   "execution_count": 25,
   "metadata": {},
   "outputs": [],
   "source": [
    "Los_dict = {\n",
    "    'Internal Audit': 'Audit',\n",
    "    'IT Audit': 'Audit',\n",
    "    'Risk Assurance (Maps to Audit at my B4)': 'Audit',\n",
    "    'Audit, tax, advisory': 'Tax and Audit',\n",
    "    'Audit focus with some tax work': 'Tax and Audit',\n",
    "    'Audit & tax': 'Tax and Audit',\n",
    "    'Audit & Tax': 'Tax and Audit',\n",
    "    'Tax Jan-April, Audit July-Dec': 'Tax and Audit',\n",
    "    'audit and tax': 'Tax and Audit',\n",
    "    'Audit/Tax': 'Tax and Audit',\n",
    "    'Audit AND Tax': 'Tax and Audit',\n",
    "    'Both audit and tax': 'Tax and Audit',\n",
    "    'Audit & Tax ': 'Tax and Audit',\n",
    "    'Audit and Tax': 'Tax and Audit',\n",
    "    'Tax and audit': 'Tax and Audit',\n",
    "    'Advisory - Risk/IT Advisory': 'Advisory',\n",
    "    'Advisory - Transaction Services/Financial Due Diligence/Corporate Finance/Restructuring': 'Advisory',\n",
    "    'Advisory - Other': 'Advisory',\n",
    "    '-Advisory - Deal Advisory': 'Advisory',\n",
    "    'Advisory - Valuations': 'Advisory',\n",
    "    'Intern at big 4. salary is offer upon graduation. ': 'Intern',\n",
    "    'Financial Accounting Advisory': 'Advisory',\n",
    "    'Tax/Advisory ': 'Advisory',\n",
    "    'AP/AR': 'Corporate', #AR/AP doesn't occur at public firms, only corporate ones\n",
    "    'Accounts Payable': 'Corporate', #Accounts Payable only occurs at corporate firms\n",
    "    'Internal Audit (not outsourced/external - the Firm is my client)': 'Audit',\n",
    "    'Audit and FDD': 'Audit',\n",
    "    'Corp': 'Corporate',\n",
    "    'Corporate Accounting and Finance': 'Corporate',\n",
    "    'Corporate accounting': 'Corporate',\n",
    "    'Financial Analyst': 'Finance',\n",
    "    'Financial Institution Examiner': 'Finance',\n",
    "    'Financial Reporting': 'Finance',\n",
    "    'Forensics ': 'Forensic',\n",
    "    'FP&A': 'Finance',\n",
    "    'Industry': 'Corporate' #Industrial accounting is the same as Corporate accounting\n",
    "}"
   ]
  },
  {
   "cell_type": "markdown",
   "metadata": {},
   "source": [
    "Afterwards, all remaining entries in Line of Service occur with very low frequencies and I will map these remaining values into the `\"Other\"` category"
   ]
  },
  {
   "cell_type": "code",
   "execution_count": 26,
   "metadata": {},
   "outputs": [],
   "source": [
    "## Use Index to map the uncommon Lines of Service (10th most common and below)\n",
    "infrequent_los = list(us_accounting['Line of Service'].value_counts()[10:].index) "
   ]
  },
  {
   "cell_type": "markdown",
   "metadata": {},
   "source": [
    "Last, I'll define a function that we can apply to the `'Line of Service'` column which will distill duplicates into the same category"
   ]
  },
  {
   "cell_type": "code",
   "execution_count": 27,
   "metadata": {},
   "outputs": [
    {
     "data": {
      "text/plain": [
       "array(['Advisory', 'Audit', 'Corporate', 'Finance', 'Forensic', 'Intern',\n",
       "       'Other', 'Tax', 'Tax and Audit', nan], dtype=object)"
      ]
     },
     "execution_count": 27,
     "metadata": {},
     "output_type": "execute_result"
    }
   ],
   "source": [
    "def los_getter(x, input_dict, los_list):\n",
    "    if x in input_dict:\n",
    "        return input_dict[x]\n",
    "    elif x in los_list:\n",
    "        return 'Other'\n",
    "    else:\n",
    "        return x\n",
    "    \n",
    "us_accounting['Line of Service'] = us_accounting['Line of Service'].apply(los_getter, args=(Los_dict, infrequent_los))\n",
    "us_accounting['Line of Service'].sort_values().unique()"
   ]
  },
  {
   "cell_type": "markdown",
   "metadata": {},
   "source": [
    "Now we need to deal with the NaN values"
   ]
  },
  {
   "cell_type": "code",
   "execution_count": 28,
   "metadata": {},
   "outputs": [
    {
     "data": {
      "text/plain": [
       "False    1076\n",
       "True      123\n",
       "Name: Line of Service, dtype: int64"
      ]
     },
     "execution_count": 28,
     "metadata": {},
     "output_type": "execute_result"
    }
   ],
   "source": [
    "us_accounting['Line of Service'].isnull().value_counts()"
   ]
  },
  {
   "cell_type": "markdown",
   "metadata": {},
   "source": [
    "Since we have no information to help impute values for `Line of Service`, we'll fill NaN values with `'Other'`"
   ]
  },
  {
   "cell_type": "code",
   "execution_count": 29,
   "metadata": {},
   "outputs": [
    {
     "data": {
      "text/plain": [
       "False    1199\n",
       "Name: Line of Service, dtype: int64"
      ]
     },
     "execution_count": 29,
     "metadata": {},
     "output_type": "execute_result"
    }
   ],
   "source": [
    "us_accounting['Line of Service'].fillna('Other', inplace=True)\n",
    "us_accounting['Line of Service'].isnull().value_counts()"
   ]
  },
  {
   "cell_type": "markdown",
   "metadata": {},
   "source": [
    "#### `'Line of Service column cleaned'`!"
   ]
  },
  {
   "cell_type": "markdown",
   "metadata": {},
   "source": [
    "### Cleaning `'Gender'` column"
   ]
  },
  {
   "cell_type": "markdown",
   "metadata": {},
   "source": [
    "We have 7 NaN values to deal with and two categories, `'Prefer not to say'` and `'Other'`, that we can distill down."
   ]
  },
  {
   "cell_type": "code",
   "execution_count": 30,
   "metadata": {},
   "outputs": [
    {
     "data": {
      "text/plain": [
       "False    1192\n",
       "True        7\n",
       "Name: Gender, dtype: int64"
      ]
     },
     "execution_count": 30,
     "metadata": {},
     "output_type": "execute_result"
    }
   ],
   "source": [
    "us_accounting['Gender'].isnull().value_counts()"
   ]
  },
  {
   "cell_type": "code",
   "execution_count": 31,
   "metadata": {},
   "outputs": [
    {
     "data": {
      "text/plain": [
       "Male                 898\n",
       "Female               263\n",
       "Prefer not to say     26\n",
       "Other                  5\n",
       "Name: Gender, dtype: int64"
      ]
     },
     "execution_count": 31,
     "metadata": {},
     "output_type": "execute_result"
    }
   ],
   "source": [
    "us_accounting['Gender'].value_counts()"
   ]
  },
  {
   "cell_type": "markdown",
   "metadata": {},
   "source": [
    "I plan to combine the `'Prefer not to say'` and `'Other'` categories, along with NaN entries into a new category `'Undislosed'`"
   ]
  },
  {
   "cell_type": "code",
   "execution_count": 32,
   "metadata": {},
   "outputs": [],
   "source": [
    "us_accounting.loc[us_accounting['Gender']=='Prefer not to say', 'Gender'] = 'Undisclosed'\n",
    "us_accounting.loc[us_accounting['Gender']=='Other', 'Gender'] = 'Undisclosed'"
   ]
  },
  {
   "cell_type": "code",
   "execution_count": 33,
   "metadata": {},
   "outputs": [
    {
     "data": {
      "text/plain": [
       "False    1199\n",
       "Name: Gender, dtype: int64"
      ]
     },
     "execution_count": 33,
     "metadata": {},
     "output_type": "execute_result"
    }
   ],
   "source": [
    "us_accounting['Gender'].fillna(value='Undisclosed', inplace=True)\n",
    "us_accounting['Gender'].isnull().value_counts()"
   ]
  },
  {
   "cell_type": "code",
   "execution_count": 34,
   "metadata": {},
   "outputs": [
    {
     "data": {
      "text/plain": [
       "Male           898\n",
       "Female         263\n",
       "Undisclosed     38\n",
       "Name: Gender, dtype: int64"
      ]
     },
     "execution_count": 34,
     "metadata": {},
     "output_type": "execute_result"
    }
   ],
   "source": [
    "us_accounting['Gender'].value_counts()"
   ]
  },
  {
   "cell_type": "markdown",
   "metadata": {},
   "source": [
    "#### `'Gender'` column cleaned!"
   ]
  },
  {
   "cell_type": "markdown",
   "metadata": {},
   "source": [
    "### Cleaning `'Has CPA'` column"
   ]
  },
  {
   "cell_type": "code",
   "execution_count": 35,
   "metadata": {},
   "outputs": [
    {
     "data": {
      "text/plain": [
       "array(['No',\n",
       "       \"I've passed all my CPA exams but I'm still completing the experience requirement\",\n",
       "       'Yes', nan], dtype=object)"
      ]
     },
     "execution_count": 35,
     "metadata": {},
     "output_type": "execute_result"
    }
   ],
   "source": [
    "us_accounting['Has CPA'].unique()"
   ]
  },
  {
   "cell_type": "markdown",
   "metadata": {},
   "source": [
    "Let's rename one of the categories to something more manageable"
   ]
  },
  {
   "cell_type": "code",
   "execution_count": 36,
   "metadata": {},
   "outputs": [
    {
     "data": {
      "text/plain": [
       "array(['No', 'Finishing Exp Req', 'Yes', nan], dtype=object)"
      ]
     },
     "execution_count": 36,
     "metadata": {},
     "output_type": "execute_result"
    }
   ],
   "source": [
    "us_accounting.loc[us_accounting['Has CPA']==\"I've passed all my CPA exams but I'm still completing the experience requirement\", 'Has CPA'] = 'Finishing Exp Req'\n",
    "us_accounting['Has CPA'].unique()"
   ]
  },
  {
   "cell_type": "markdown",
   "metadata": {},
   "source": [
    "Now we only have to deal with 2 Nan values."
   ]
  },
  {
   "cell_type": "code",
   "execution_count": 37,
   "metadata": {},
   "outputs": [
    {
     "data": {
      "text/plain": [
       "False    1197\n",
       "True        2\n",
       "Name: Has CPA, dtype: int64"
      ]
     },
     "execution_count": 37,
     "metadata": {},
     "output_type": "execute_result"
    }
   ],
   "source": [
    "us_accounting['Has CPA'].isnull().value_counts()"
   ]
  },
  {
   "cell_type": "code",
   "execution_count": 38,
   "metadata": {},
   "outputs": [
    {
     "data": {
      "text/html": [
       "<div>\n",
       "<style scoped>\n",
       "    .dataframe tbody tr th:only-of-type {\n",
       "        vertical-align: middle;\n",
       "    }\n",
       "\n",
       "    .dataframe tbody tr th {\n",
       "        vertical-align: top;\n",
       "    }\n",
       "\n",
       "    .dataframe thead th {\n",
       "        text-align: right;\n",
       "    }\n",
       "</style>\n",
       "<table border=\"1\" class=\"dataframe\">\n",
       "  <thead>\n",
       "    <tr style=\"text-align: right;\">\n",
       "      <th></th>\n",
       "      <th>Exit Status</th>\n",
       "      <th>Has CPA</th>\n",
       "      <th>Years Experience</th>\n",
       "      <th>Current Salary + Bonus</th>\n",
       "      <th>Years Public Before Exit</th>\n",
       "      <th>Current Industry</th>\n",
       "      <th>What COL is your region?</th>\n",
       "      <th>Gender</th>\n",
       "      <th>Line of Service</th>\n",
       "      <th>Average Hours Per Week</th>\n",
       "    </tr>\n",
       "  </thead>\n",
       "  <tbody>\n",
       "    <tr>\n",
       "      <th>150</th>\n",
       "      <td>I am currently working at a Big 4 accounting firm</td>\n",
       "      <td>NaN</td>\n",
       "      <td>1.0</td>\n",
       "      <td>65000.0</td>\n",
       "      <td>NaN</td>\n",
       "      <td>Public Accounting</td>\n",
       "      <td>High</td>\n",
       "      <td>Male</td>\n",
       "      <td>Tax</td>\n",
       "      <td>50.0</td>\n",
       "    </tr>\n",
       "    <tr>\n",
       "      <th>933</th>\n",
       "      <td>NaN</td>\n",
       "      <td>NaN</td>\n",
       "      <td>NaN</td>\n",
       "      <td>72000.0</td>\n",
       "      <td>NaN</td>\n",
       "      <td>NaN</td>\n",
       "      <td>Medium</td>\n",
       "      <td>Male</td>\n",
       "      <td>Other</td>\n",
       "      <td>NaN</td>\n",
       "    </tr>\n",
       "  </tbody>\n",
       "</table>\n",
       "</div>"
      ],
      "text/plain": [
       "                                           Exit Status Has CPA  \\\n",
       "150  I am currently working at a Big 4 accounting firm     NaN   \n",
       "933                                                NaN     NaN   \n",
       "\n",
       "     Years Experience  Current Salary + Bonus  Years Public Before Exit  \\\n",
       "150               1.0                 65000.0                       NaN   \n",
       "933               NaN                 72000.0                       NaN   \n",
       "\n",
       "      Current Industry What COL is your region? Gender Line of Service  \\\n",
       "150  Public Accounting                     High   Male             Tax   \n",
       "933                NaN                   Medium   Male           Other   \n",
       "\n",
       "     Average Hours Per Week  \n",
       "150                    50.0  \n",
       "933                     NaN  "
      ]
     },
     "execution_count": 38,
     "metadata": {},
     "output_type": "execute_result"
    }
   ],
   "source": [
    "us_accounting[us_accounting['Has CPA'].isnull()]"
   ]
  },
  {
   "cell_type": "markdown",
   "metadata": {},
   "source": [
    "Because one of the rows is missing most of it's values, I will drop it.\n",
    "For the other row, I will impute 'Has CPA' using the mode.  \n",
    "\n",
    "Note, it might be better to drop both rows though as it's only two entries with fairly typical entries in the other columns that shouldn't affect the rest of our analysis that much."
   ]
  },
  {
   "cell_type": "code",
   "execution_count": 39,
   "metadata": {},
   "outputs": [],
   "source": [
    "us_accounting.drop(index=933, inplace=True)"
   ]
  },
  {
   "cell_type": "code",
   "execution_count": 40,
   "metadata": {},
   "outputs": [
    {
     "data": {
      "text/plain": [
       "No                   566\n",
       "Yes                  537\n",
       "Finishing Exp Req     94\n",
       "Name: Has CPA, dtype: int64"
      ]
     },
     "execution_count": 40,
     "metadata": {},
     "output_type": "execute_result"
    }
   ],
   "source": [
    "us_accounting['Has CPA'].value_counts()"
   ]
  },
  {
   "cell_type": "code",
   "execution_count": 41,
   "metadata": {},
   "outputs": [
    {
     "name": "stdout",
     "output_type": "stream",
     "text": [
      "Has CPA mode:  No\n"
     ]
    }
   ],
   "source": [
    "cpa_mode = us_accounting['Has CPA'].mode()[0]\n",
    "print('Has CPA mode: ', cpa_mode)\n",
    "us_accounting['Has CPA'].fillna(cpa_mode, inplace=True)\n",
    "\n",
    "# # If we wanted to drop the row, we could do this instea\n",
    "# us_accounting.drop(index=us_accounting[us_accounting['Has CPA'].isnull()].index, inplace=True)"
   ]
  },
  {
   "cell_type": "code",
   "execution_count": 43,
   "metadata": {},
   "outputs": [
    {
     "data": {
      "text/plain": [
       "False    1198\n",
       "Name: Has CPA, dtype: int64"
      ]
     },
     "execution_count": 43,
     "metadata": {},
     "output_type": "execute_result"
    }
   ],
   "source": [
    "us_accounting['Has CPA'].isnull().value_counts()"
   ]
  },
  {
   "cell_type": "markdown",
   "metadata": {},
   "source": [
    "`'Has CPA'` column cleaned!"
   ]
  },
  {
   "cell_type": "markdown",
   "metadata": {},
   "source": [
    "## Cleaning `'Years Experience'` column"
   ]
  },
  {
   "cell_type": "markdown",
   "metadata": {},
   "source": [
    "We're missing 110 values in the 'Years Experience' column.  Since the distribution is right skewed, I will choose to impute the median for these values"
   ]
  },
  {
   "cell_type": "code",
   "execution_count": 44,
   "metadata": {},
   "outputs": [
    {
     "data": {
      "text/plain": [
       "False    1089\n",
       "True      109\n",
       "Name: Years Experience, dtype: int64"
      ]
     },
     "execution_count": 44,
     "metadata": {},
     "output_type": "execute_result"
    }
   ],
   "source": [
    "us_accounting['Years Experience'].isnull().value_counts()"
   ]
  },
  {
   "cell_type": "code",
   "execution_count": 45,
   "metadata": {},
   "outputs": [
    {
     "name": "stdout",
     "output_type": "stream",
     "text": [
      "US accountants median years experience:  3.0\n",
      "US accountants mean years experience:  4.2\n"
     ]
    },
    {
     "data": {
      "image/png": "[encoded data removed]",
      "text/plain": [
       "<Figure size 432x288 with 1 Axes>"
      ]
     },
     "metadata": {
      "needs_background": "light"
     },
     "output_type": "display_data"
    }
   ],
   "source": [
    "median_yrs_exp = us_accounting['Years Experience'].median()\n",
    "mean_yrs_exp = us_accounting['Years Experience'].mean()\n",
    "print('US accountants median years experience: ', median_yrs_exp)\n",
    "print('US accountants mean years experience: ', round(mean_yrs_exp, 1))\n",
    "us_accounting['Years Experience'].hist()\n",
    "plt.axvline(median_yrs_exp, label='median', color='red')\n",
    "plt.axvline(mean_yrs_exp, label='mean', color='black', linestyle='--')\n",
    "plt.xlabel('Years Experience')\n",
    "plt.ylabel('Count')\n",
    "plt.title('Distribution of Years Experience for US Accountants')\n",
    "plt.legend();"
   ]
  },
  {
   "cell_type": "code",
   "execution_count": 46,
   "metadata": {},
   "outputs": [
    {
     "data": {
      "text/plain": [
       "False    1198\n",
       "Name: Years Experience, dtype: int64"
      ]
     },
     "execution_count": 46,
     "metadata": {},
     "output_type": "execute_result"
    }
   ],
   "source": [
    "us_accounting['Years Experience'].fillna(us_accounting['Years Experience'].median(), inplace=True)\n",
    "us_accounting['Years Experience'].isnull().value_counts()"
   ]
  },
  {
   "cell_type": "markdown",
   "metadata": {},
   "source": [
    "### Cleaning entries that don't make sense\n",
    "\n",
    "`Years Experience` 0 must be a typo of sorts, especially for the people that list themselves as working 40+ hours a week. \n",
    "\n",
    "I will handle these entries in multiple sections.  \n",
    "\n",
    "#### Targeting those who have an exit status indicating they are still working for a public firm."
   ]
  },
  {
   "cell_type": "code",
   "execution_count": 47,
   "metadata": {},
   "outputs": [
    {
     "data": {
      "text/html": [
       "<div>\n",
       "<style scoped>\n",
       "    .dataframe tbody tr th:only-of-type {\n",
       "        vertical-align: middle;\n",
       "    }\n",
       "\n",
       "    .dataframe tbody tr th {\n",
       "        vertical-align: top;\n",
       "    }\n",
       "\n",
       "    .dataframe thead th {\n",
       "        text-align: right;\n",
       "    }\n",
       "</style>\n",
       "<table border=\"1\" class=\"dataframe\">\n",
       "  <thead>\n",
       "    <tr style=\"text-align: right;\">\n",
       "      <th></th>\n",
       "      <th>Exit Status</th>\n",
       "      <th>Has CPA</th>\n",
       "      <th>Years Experience</th>\n",
       "      <th>Current Salary + Bonus</th>\n",
       "      <th>Years Public Before Exit</th>\n",
       "      <th>Current Industry</th>\n",
       "      <th>What COL is your region?</th>\n",
       "      <th>Gender</th>\n",
       "      <th>Line of Service</th>\n",
       "      <th>Average Hours Per Week</th>\n",
       "    </tr>\n",
       "  </thead>\n",
       "  <tbody>\n",
       "    <tr>\n",
       "      <th>0</th>\n",
       "      <td>I am still in school</td>\n",
       "      <td>No</td>\n",
       "      <td>0.0</td>\n",
       "      <td>72000.0</td>\n",
       "      <td>NaN</td>\n",
       "      <td>NaN</td>\n",
       "      <td>High</td>\n",
       "      <td>Male</td>\n",
       "      <td>Other</td>\n",
       "      <td>NaN</td>\n",
       "    </tr>\n",
       "    <tr>\n",
       "      <th>1</th>\n",
       "      <td>I am currently working at a Big 4 accounting firm</td>\n",
       "      <td>No</td>\n",
       "      <td>0.0</td>\n",
       "      <td>100000.0</td>\n",
       "      <td>NaN</td>\n",
       "      <td>Public Accounting</td>\n",
       "      <td>Medium</td>\n",
       "      <td>Female</td>\n",
       "      <td>Tax</td>\n",
       "      <td>NaN</td>\n",
       "    </tr>\n",
       "    <tr>\n",
       "      <th>2</th>\n",
       "      <td>I am currently working at a Big 4 accounting firm</td>\n",
       "      <td>No</td>\n",
       "      <td>0.0</td>\n",
       "      <td>63000.0</td>\n",
       "      <td>NaN</td>\n",
       "      <td>Public Accounting</td>\n",
       "      <td>High</td>\n",
       "      <td>Male</td>\n",
       "      <td>Audit</td>\n",
       "      <td>50.0</td>\n",
       "    </tr>\n",
       "    <tr>\n",
       "      <th>3</th>\n",
       "      <td>I am currently working at a mid-tier or local ...</td>\n",
       "      <td>No</td>\n",
       "      <td>0.0</td>\n",
       "      <td>61000.0</td>\n",
       "      <td>NaN</td>\n",
       "      <td>Public Accounting</td>\n",
       "      <td>High</td>\n",
       "      <td>Male</td>\n",
       "      <td>Tax</td>\n",
       "      <td>50.0</td>\n",
       "    </tr>\n",
       "    <tr>\n",
       "      <th>4</th>\n",
       "      <td>I am currently working at a mid-tier or local ...</td>\n",
       "      <td>No</td>\n",
       "      <td>0.0</td>\n",
       "      <td>67000.0</td>\n",
       "      <td>NaN</td>\n",
       "      <td>Public Accounting</td>\n",
       "      <td>High</td>\n",
       "      <td>Male</td>\n",
       "      <td>Other</td>\n",
       "      <td>40.0</td>\n",
       "    </tr>\n",
       "    <tr>\n",
       "      <th>5</th>\n",
       "      <td>I have never worked at a public accounting firm</td>\n",
       "      <td>No</td>\n",
       "      <td>0.0</td>\n",
       "      <td>72000.0</td>\n",
       "      <td>NaN</td>\n",
       "      <td>Construction</td>\n",
       "      <td>Medium</td>\n",
       "      <td>Male</td>\n",
       "      <td>Other</td>\n",
       "      <td>40.0</td>\n",
       "    </tr>\n",
       "    <tr>\n",
       "      <th>6</th>\n",
       "      <td>I am still in school</td>\n",
       "      <td>No</td>\n",
       "      <td>0.0</td>\n",
       "      <td>62000.0</td>\n",
       "      <td>NaN</td>\n",
       "      <td>Finance</td>\n",
       "      <td>Medium</td>\n",
       "      <td>Female</td>\n",
       "      <td>Audit</td>\n",
       "      <td>40.0</td>\n",
       "    </tr>\n",
       "    <tr>\n",
       "      <th>1173</th>\n",
       "      <td>I am currently working at a Big 4 accounting firm</td>\n",
       "      <td>No</td>\n",
       "      <td>0.0</td>\n",
       "      <td>66000.0</td>\n",
       "      <td>NaN</td>\n",
       "      <td>Public Accounting</td>\n",
       "      <td>High</td>\n",
       "      <td>Male</td>\n",
       "      <td>Advisory</td>\n",
       "      <td>45.0</td>\n",
       "    </tr>\n",
       "  </tbody>\n",
       "</table>\n",
       "</div>"
      ],
      "text/plain": [
       "                                            Exit Status Has CPA  \\\n",
       "0                                  I am still in school      No   \n",
       "1     I am currently working at a Big 4 accounting firm      No   \n",
       "2     I am currently working at a Big 4 accounting firm      No   \n",
       "3     I am currently working at a mid-tier or local ...      No   \n",
       "4     I am currently working at a mid-tier or local ...      No   \n",
       "5       I have never worked at a public accounting firm      No   \n",
       "6                                  I am still in school      No   \n",
       "1173  I am currently working at a Big 4 accounting firm      No   \n",
       "\n",
       "      Years Experience  Current Salary + Bonus  Years Public Before Exit  \\\n",
       "0                  0.0                 72000.0                       NaN   \n",
       "1                  0.0                100000.0                       NaN   \n",
       "2                  0.0                 63000.0                       NaN   \n",
       "3                  0.0                 61000.0                       NaN   \n",
       "4                  0.0                 67000.0                       NaN   \n",
       "5                  0.0                 72000.0                       NaN   \n",
       "6                  0.0                 62000.0                       NaN   \n",
       "1173               0.0                 66000.0                       NaN   \n",
       "\n",
       "       Current Industry What COL is your region?  Gender Line of Service  \\\n",
       "0                   NaN                     High    Male           Other   \n",
       "1     Public Accounting                   Medium  Female             Tax   \n",
       "2     Public Accounting                     High    Male           Audit   \n",
       "3     Public Accounting                     High    Male             Tax   \n",
       "4     Public Accounting                     High    Male           Other   \n",
       "5          Construction                   Medium    Male           Other   \n",
       "6               Finance                   Medium  Female           Audit   \n",
       "1173  Public Accounting                     High    Male        Advisory   \n",
       "\n",
       "      Average Hours Per Week  \n",
       "0                        NaN  \n",
       "1                        NaN  \n",
       "2                       50.0  \n",
       "3                       50.0  \n",
       "4                       40.0  \n",
       "5                       40.0  \n",
       "6                       40.0  \n",
       "1173                    45.0  "
      ]
     },
     "execution_count": 47,
     "metadata": {},
     "output_type": "execute_result"
    }
   ],
   "source": [
    "us_accounting[us_accounting['Years Experience'] == 0]"
   ]
  },
  {
   "cell_type": "markdown",
   "metadata": {},
   "source": [
    "Because `Years Experience` is right skewed for accountants who are currently working for a public firm, I will find the median years experience for this group of accountants and impute that value for those who have 0 years experience listed."
   ]
  },
  {
   "cell_type": "code",
   "execution_count": 48,
   "metadata": {},
   "outputs": [
    {
     "name": "stdout",
     "output_type": "stream",
     "text": [
      "Median Years Experience for Public Accountants who have > 0 years experience:  3.0\n"
     ]
    },
    {
     "data": {
      "image/png": "[encoded data removed]",
      "text/plain": [
       "<Figure size 432x288 with 1 Axes>"
      ]
     },
     "metadata": {
      "needs_background": "light"
     },
     "output_type": "display_data"
    }
   ],
   "source": [
    "public_accountants_with_exp = us_accounting[\n",
    "    (us_accounting['Years Experience'] != 0) & \n",
    "    (\n",
    "        (us_accounting['Exit Status'] == 'I am currently working at a Big 4 accounting firm') | \n",
    "        (us_accounting['Exit Status'] == 'I am currently working at a mid-tier or local accounting firm')\n",
    "    )\n",
    "]\n",
    "public_accountants_with_exp['Years Experience'].plot.hist()\n",
    "public_accountants_median_exp = public_accountants_with_exp['Years Experience'].median()\n",
    "print('Median Years Experience for Public Accountants who have > 0 years experience: ', public_accountants_median_exp)"
   ]
  },
  {
   "cell_type": "code",
   "execution_count": 49,
   "metadata": {},
   "outputs": [],
   "source": [
    "us_accounting.loc[\n",
    "    (us_accounting['Years Experience'] == 0) & \n",
    "    (\n",
    "        (us_accounting['Exit Status'] == 'I am currently working at a Big 4 accounting firm') | \n",
    "        (us_accounting['Exit Status'] == 'I am currently working at a mid-tier or local accounting firm')\n",
    "    ), \n",
    "    'Years Experience'\n",
    "] = public_accountants_median_exp"
   ]
  },
  {
   "cell_type": "markdown",
   "metadata": {},
   "source": [
    "#### Targeting the accountant who has never worked in a public accounting firm\n"
   ]
  },
  {
   "cell_type": "code",
   "execution_count": 50,
   "metadata": {},
   "outputs": [
    {
     "data": {
      "text/html": [
       "<div>\n",
       "<style scoped>\n",
       "    .dataframe tbody tr th:only-of-type {\n",
       "        vertical-align: middle;\n",
       "    }\n",
       "\n",
       "    .dataframe tbody tr th {\n",
       "        vertical-align: top;\n",
       "    }\n",
       "\n",
       "    .dataframe thead th {\n",
       "        text-align: right;\n",
       "    }\n",
       "</style>\n",
       "<table border=\"1\" class=\"dataframe\">\n",
       "  <thead>\n",
       "    <tr style=\"text-align: right;\">\n",
       "      <th></th>\n",
       "      <th>Exit Status</th>\n",
       "      <th>Has CPA</th>\n",
       "      <th>Years Experience</th>\n",
       "      <th>Current Salary + Bonus</th>\n",
       "      <th>Years Public Before Exit</th>\n",
       "      <th>Current Industry</th>\n",
       "      <th>What COL is your region?</th>\n",
       "      <th>Gender</th>\n",
       "      <th>Line of Service</th>\n",
       "      <th>Average Hours Per Week</th>\n",
       "    </tr>\n",
       "  </thead>\n",
       "  <tbody>\n",
       "    <tr>\n",
       "      <th>0</th>\n",
       "      <td>I am still in school</td>\n",
       "      <td>No</td>\n",
       "      <td>0.0</td>\n",
       "      <td>72000.0</td>\n",
       "      <td>NaN</td>\n",
       "      <td>NaN</td>\n",
       "      <td>High</td>\n",
       "      <td>Male</td>\n",
       "      <td>Other</td>\n",
       "      <td>NaN</td>\n",
       "    </tr>\n",
       "    <tr>\n",
       "      <th>5</th>\n",
       "      <td>I have never worked at a public accounting firm</td>\n",
       "      <td>No</td>\n",
       "      <td>0.0</td>\n",
       "      <td>72000.0</td>\n",
       "      <td>NaN</td>\n",
       "      <td>Construction</td>\n",
       "      <td>Medium</td>\n",
       "      <td>Male</td>\n",
       "      <td>Other</td>\n",
       "      <td>40.0</td>\n",
       "    </tr>\n",
       "    <tr>\n",
       "      <th>6</th>\n",
       "      <td>I am still in school</td>\n",
       "      <td>No</td>\n",
       "      <td>0.0</td>\n",
       "      <td>62000.0</td>\n",
       "      <td>NaN</td>\n",
       "      <td>Finance</td>\n",
       "      <td>Medium</td>\n",
       "      <td>Female</td>\n",
       "      <td>Audit</td>\n",
       "      <td>40.0</td>\n",
       "    </tr>\n",
       "  </tbody>\n",
       "</table>\n",
       "</div>"
      ],
      "text/plain": [
       "                                       Exit Status Has CPA  Years Experience  \\\n",
       "0                             I am still in school      No               0.0   \n",
       "5  I have never worked at a public accounting firm      No               0.0   \n",
       "6                             I am still in school      No               0.0   \n",
       "\n",
       "   Current Salary + Bonus  Years Public Before Exit Current Industry  \\\n",
       "0                 72000.0                       NaN              NaN   \n",
       "5                 72000.0                       NaN     Construction   \n",
       "6                 62000.0                       NaN          Finance   \n",
       "\n",
       "  What COL is your region?  Gender Line of Service  Average Hours Per Week  \n",
       "0                     High    Male           Other                     NaN  \n",
       "5                   Medium    Male           Other                    40.0  \n",
       "6                   Medium  Female           Audit                    40.0  "
      ]
     },
     "execution_count": 50,
     "metadata": {},
     "output_type": "execute_result"
    }
   ],
   "source": [
    "us_accounting[us_accounting['Years Experience'] == 0]"
   ]
  },
  {
   "cell_type": "markdown",
   "metadata": {},
   "source": [
    "Because `Years Experience` is right skewed for accountants who have never worked for a public firm, I will find the median years experience for this group of accountants and impute that value for those who have 0 years experience listed."
   ]
  },
  {
   "cell_type": "code",
   "execution_count": 51,
   "metadata": {},
   "outputs": [
    {
     "name": "stdout",
     "output_type": "stream",
     "text": [
      "Median Years Experience for Private Accountants who have > 0 years experience:  4.5\n"
     ]
    },
    {
     "data": {
      "image/png": "[encoded data removed]",
      "text/plain": [
       "<Figure size 432x288 with 1 Axes>"
      ]
     },
     "metadata": {
      "needs_background": "light"
     },
     "output_type": "display_data"
    }
   ],
   "source": [
    "private_accountants_with_exp = us_accounting[(us_accounting['Exit Status'] == 'I have never worked at a public accounting firm') & (us_accounting['Years Experience'] != 0)]\n",
    "private_accountants_with_exp['Years Experience'].plot.hist()\n",
    "private_accountants_median_exp = private_accountants_with_exp['Years Experience'].median()\n",
    "print('Median Years Experience for Private Accountants who have > 0 years experience: ', private_accountants_median_exp)"
   ]
  },
  {
   "cell_type": "code",
   "execution_count": 52,
   "metadata": {},
   "outputs": [],
   "source": [
    "us_accounting.loc[\n",
    "    (us_accounting['Exit Status'] == 'I have never worked at a public accounting firm') & \n",
    "    (us_accounting['Years Experience'] == 0), \n",
    "    'Years Experience']  = private_accountants_median_exp"
   ]
  },
  {
   "cell_type": "markdown",
   "metadata": {},
   "source": [
    "#### Targeting accountants listed as being in school\n",
    "All that's left is to deal with these two entries.  These are the trickiest because their `Exit Status` is listed as being still in school and it makes it more likely that they have 0 years of experience.  I will drop these values as they comprise an extremely low percentage of the overall sample and contain a few NaN values anyways."
   ]
  },
  {
   "cell_type": "code",
   "execution_count": 53,
   "metadata": {},
   "outputs": [
    {
     "data": {
      "text/html": [
       "<div>\n",
       "<style scoped>\n",
       "    .dataframe tbody tr th:only-of-type {\n",
       "        vertical-align: middle;\n",
       "    }\n",
       "\n",
       "    .dataframe tbody tr th {\n",
       "        vertical-align: top;\n",
       "    }\n",
       "\n",
       "    .dataframe thead th {\n",
       "        text-align: right;\n",
       "    }\n",
       "</style>\n",
       "<table border=\"1\" class=\"dataframe\">\n",
       "  <thead>\n",
       "    <tr style=\"text-align: right;\">\n",
       "      <th></th>\n",
       "      <th>Exit Status</th>\n",
       "      <th>Has CPA</th>\n",
       "      <th>Years Experience</th>\n",
       "      <th>Current Salary + Bonus</th>\n",
       "      <th>Years Public Before Exit</th>\n",
       "      <th>Current Industry</th>\n",
       "      <th>What COL is your region?</th>\n",
       "      <th>Gender</th>\n",
       "      <th>Line of Service</th>\n",
       "      <th>Average Hours Per Week</th>\n",
       "    </tr>\n",
       "  </thead>\n",
       "  <tbody>\n",
       "    <tr>\n",
       "      <th>0</th>\n",
       "      <td>I am still in school</td>\n",
       "      <td>No</td>\n",
       "      <td>0.0</td>\n",
       "      <td>72000.0</td>\n",
       "      <td>NaN</td>\n",
       "      <td>NaN</td>\n",
       "      <td>High</td>\n",
       "      <td>Male</td>\n",
       "      <td>Other</td>\n",
       "      <td>NaN</td>\n",
       "    </tr>\n",
       "    <tr>\n",
       "      <th>6</th>\n",
       "      <td>I am still in school</td>\n",
       "      <td>No</td>\n",
       "      <td>0.0</td>\n",
       "      <td>62000.0</td>\n",
       "      <td>NaN</td>\n",
       "      <td>Finance</td>\n",
       "      <td>Medium</td>\n",
       "      <td>Female</td>\n",
       "      <td>Audit</td>\n",
       "      <td>40.0</td>\n",
       "    </tr>\n",
       "  </tbody>\n",
       "</table>\n",
       "</div>"
      ],
      "text/plain": [
       "            Exit Status Has CPA  Years Experience  Current Salary + Bonus  \\\n",
       "0  I am still in school      No               0.0                 72000.0   \n",
       "6  I am still in school      No               0.0                 62000.0   \n",
       "\n",
       "   Years Public Before Exit Current Industry What COL is your region?  Gender  \\\n",
       "0                       NaN              NaN                     High    Male   \n",
       "6                       NaN          Finance                   Medium  Female   \n",
       "\n",
       "  Line of Service  Average Hours Per Week  \n",
       "0           Other                     NaN  \n",
       "6           Audit                    40.0  "
      ]
     },
     "execution_count": 53,
     "metadata": {},
     "output_type": "execute_result"
    }
   ],
   "source": [
    "us_accounting[us_accounting['Years Experience'] == 0]"
   ]
  },
  {
   "cell_type": "code",
   "execution_count": 54,
   "metadata": {},
   "outputs": [
    {
     "data": {
      "text/html": [
       "<div>\n",
       "<style scoped>\n",
       "    .dataframe tbody tr th:only-of-type {\n",
       "        vertical-align: middle;\n",
       "    }\n",
       "\n",
       "    .dataframe tbody tr th {\n",
       "        vertical-align: top;\n",
       "    }\n",
       "\n",
       "    .dataframe thead th {\n",
       "        text-align: right;\n",
       "    }\n",
       "</style>\n",
       "<table border=\"1\" class=\"dataframe\">\n",
       "  <thead>\n",
       "    <tr style=\"text-align: right;\">\n",
       "      <th></th>\n",
       "      <th>Exit Status</th>\n",
       "      <th>Has CPA</th>\n",
       "      <th>Years Experience</th>\n",
       "      <th>Current Salary + Bonus</th>\n",
       "      <th>Years Public Before Exit</th>\n",
       "      <th>Current Industry</th>\n",
       "      <th>What COL is your region?</th>\n",
       "      <th>Gender</th>\n",
       "      <th>Line of Service</th>\n",
       "      <th>Average Hours Per Week</th>\n",
       "    </tr>\n",
       "  </thead>\n",
       "  <tbody>\n",
       "  </tbody>\n",
       "</table>\n",
       "</div>"
      ],
      "text/plain": [
       "Empty DataFrame\n",
       "Columns: [Exit Status, Has CPA, Years Experience, Current Salary + Bonus, Years Public Before Exit, Current Industry, What COL is your region?, Gender, Line of Service, Average Hours Per Week]\n",
       "Index: []"
      ]
     },
     "execution_count": 54,
     "metadata": {},
     "output_type": "execute_result"
    }
   ],
   "source": [
    "drop_ind = us_accounting[us_accounting['Years Experience'] == 0].index\n",
    "us_accounting.drop(drop_ind, inplace=True)"
   ]
  },
  {
   "cell_type": "markdown",
   "metadata": {},
   "source": [
    "`'Years Experience'` column cleaned!"
   ]
  },
  {
   "cell_type": "markdown",
   "metadata": {},
   "source": [
    "## Cleaning `'Exit Status'` column"
   ]
  },
  {
   "cell_type": "markdown",
   "metadata": {},
   "source": [
    "We have a duplicate value at \"I am currently working at a Big 4 accounting firm\" and \"I am currently workting at a Big 4 Accounting Firm\""
   ]
  },
  {
   "cell_type": "code",
   "execution_count": 55,
   "metadata": {},
   "outputs": [
    {
     "data": {
      "text/plain": [
       "array(['I am currently working at a Big 4 accounting firm',\n",
       "       'I am currently working at a mid-tier or local accounting firm',\n",
       "       'I have never worked at a public accounting firm',\n",
       "       'I am still in school',\n",
       "       'I have already exited from a Big 4 Accounting firm',\n",
       "       'I am currently working at a Big 4 Accounting firm',\n",
       "       'I have already exited from a mid-tier or local accounting firm',\n",
       "       nan], dtype=object)"
      ]
     },
     "execution_count": 55,
     "metadata": {},
     "output_type": "execute_result"
    }
   ],
   "source": [
    "us_accounting['Exit Status'].unique()"
   ]
  },
  {
   "cell_type": "code",
   "execution_count": 56,
   "metadata": {},
   "outputs": [
    {
     "data": {
      "text/plain": [
       "I am currently working at a mid-tier or local accounting firm     402\n",
       "I am currently working at a Big 4 accounting firm                 329\n",
       "I have never worked at a public accounting firm                   206\n",
       "I have already exited from a Big 4 Accounting firm                111\n",
       "I have already exited from a mid-tier or local accounting firm    104\n",
       "I am still in school                                               43\n",
       "Name: Exit Status, dtype: int64"
      ]
     },
     "execution_count": 56,
     "metadata": {},
     "output_type": "execute_result"
    }
   ],
   "source": [
    "us_accounting.loc[us_accounting['Exit Status'] == 'I am currently working at a Big 4 Accounting firm', 'Exit Status'] = 'I am currently working at a Big 4 accounting firm'\n",
    "us_accounting['Exit Status'].value_counts()"
   ]
  },
  {
   "cell_type": "markdown",
   "metadata": {},
   "source": [
    "For the null values, I will impute the mode"
   ]
  },
  {
   "cell_type": "code",
   "execution_count": 57,
   "metadata": {},
   "outputs": [
    {
     "data": {
      "text/plain": [
       "False    1195\n",
       "True        1\n",
       "Name: Exit Status, dtype: int64"
      ]
     },
     "execution_count": 57,
     "metadata": {},
     "output_type": "execute_result"
    }
   ],
   "source": [
    "us_accounting['Exit Status'].isnull().value_counts()"
   ]
  },
  {
   "cell_type": "code",
   "execution_count": 58,
   "metadata": {},
   "outputs": [
    {
     "data": {
      "text/html": [
       "<div>\n",
       "<style scoped>\n",
       "    .dataframe tbody tr th:only-of-type {\n",
       "        vertical-align: middle;\n",
       "    }\n",
       "\n",
       "    .dataframe tbody tr th {\n",
       "        vertical-align: top;\n",
       "    }\n",
       "\n",
       "    .dataframe thead th {\n",
       "        text-align: right;\n",
       "    }\n",
       "</style>\n",
       "<table border=\"1\" class=\"dataframe\">\n",
       "  <thead>\n",
       "    <tr style=\"text-align: right;\">\n",
       "      <th></th>\n",
       "      <th>Exit Status</th>\n",
       "      <th>Has CPA</th>\n",
       "      <th>Years Experience</th>\n",
       "      <th>Current Salary + Bonus</th>\n",
       "      <th>Years Public Before Exit</th>\n",
       "      <th>Current Industry</th>\n",
       "      <th>What COL is your region?</th>\n",
       "      <th>Gender</th>\n",
       "      <th>Line of Service</th>\n",
       "      <th>Average Hours Per Week</th>\n",
       "    </tr>\n",
       "  </thead>\n",
       "  <tbody>\n",
       "    <tr>\n",
       "      <th>1166</th>\n",
       "      <td>NaN</td>\n",
       "      <td>No</td>\n",
       "      <td>4.0</td>\n",
       "      <td>74250.0</td>\n",
       "      <td>NaN</td>\n",
       "      <td>Public Accounting</td>\n",
       "      <td>Medium</td>\n",
       "      <td>Male</td>\n",
       "      <td>Audit</td>\n",
       "      <td>45.0</td>\n",
       "    </tr>\n",
       "  </tbody>\n",
       "</table>\n",
       "</div>"
      ],
      "text/plain": [
       "     Exit Status Has CPA  Years Experience  Current Salary + Bonus  \\\n",
       "1166         NaN      No               4.0                 74250.0   \n",
       "\n",
       "      Years Public Before Exit   Current Industry What COL is your region?  \\\n",
       "1166                       NaN  Public Accounting                   Medium   \n",
       "\n",
       "     Gender Line of Service  Average Hours Per Week  \n",
       "1166   Male           Audit                    45.0  "
      ]
     },
     "execution_count": 58,
     "metadata": {},
     "output_type": "execute_result"
    }
   ],
   "source": [
    "us_accounting[us_accounting['Exit Status'].isnull()]"
   ]
  },
  {
   "cell_type": "markdown",
   "metadata": {},
   "source": [
    "Because this person indicates they are in Public Accounting, it is reasonable to assume that their exit status is NaN because they have yet to exit the public firm they work at.  Therefore, it is likely we can impute `'I am currently working at a mid-tier or local accounting firm'` or `'I am currently working at a Big 4 accounting firm'`.  Because one of those options is the mode, I will impute that value."
   ]
  },
  {
   "cell_type": "code",
   "execution_count": 59,
   "metadata": {},
   "outputs": [
    {
     "name": "stdout",
     "output_type": "stream",
     "text": [
      "I am currently working at a mid-tier or local accounting firm     402\n",
      "I am currently working at a Big 4 accounting firm                 329\n",
      "I have never worked at a public accounting firm                   206\n",
      "I have already exited from a Big 4 Accounting firm                111\n",
      "I have already exited from a mid-tier or local accounting firm    104\n",
      "I am still in school                                               43\n",
      "\n",
      "US accounting mode for exit status from public accounting:  I am currently working at a mid-tier or local accounting firm\n"
     ]
    }
   ],
   "source": [
    "print(us_accounting['Exit Status'].value_counts().to_string())\n",
    "mode_exit_status = us_accounting['Exit Status'].mode()[0]\n",
    "print()\n",
    "print('US accounting mode for exit status from public accounting: ', mode_exit_status)"
   ]
  },
  {
   "cell_type": "code",
   "execution_count": 60,
   "metadata": {},
   "outputs": [],
   "source": [
    "us_accounting['Exit Status'].fillna(mode_exit_status, inplace=True)"
   ]
  },
  {
   "cell_type": "code",
   "execution_count": 61,
   "metadata": {},
   "outputs": [
    {
     "data": {
      "text/plain": [
       "False    1196\n",
       "Name: Exit Status, dtype: int64"
      ]
     },
     "execution_count": 61,
     "metadata": {},
     "output_type": "execute_result"
    }
   ],
   "source": [
    "us_accounting['Exit Status'].isnull().value_counts()"
   ]
  },
  {
   "cell_type": "markdown",
   "metadata": {},
   "source": [
    "`'Exit Status'` column cleaned!"
   ]
  },
  {
   "cell_type": "markdown",
   "metadata": {},
   "source": [
    "## Cleaning `'Years Public Before Exit'` column"
   ]
  },
  {
   "cell_type": "markdown",
   "metadata": {},
   "source": [
    "## Null Values"
   ]
  },
  {
   "cell_type": "code",
   "execution_count": 62,
   "metadata": {},
   "outputs": [
    {
     "data": {
      "text/plain": [
       "True     968\n",
       "False    228\n",
       "Name: Years Public Before Exit, dtype: int64"
      ]
     },
     "execution_count": 62,
     "metadata": {},
     "output_type": "execute_result"
    }
   ],
   "source": [
    "us_accounting['Years Public Before Exit'].isnull().value_counts()"
   ]
  },
  {
   "cell_type": "markdown",
   "metadata": {},
   "source": [
    "This column is tied to the `'Exit Status'` column as you will only have `'Years Public Before Exit'` filled in for certain exit statuses, namely 'I have never worked at a public accounting firm', 'I am currently working at a mid-tier or local accounting firm', 'I am currently working at a Big 4 accounting firm', and 'I am still in school.  These are the groups that haven't exited public accounting, or were never in it, so it makes sense for their `'Years Public Before Exit'` values to be NaN.  We can see we have NaN values in other categories though, so let's deal with those first."
   ]
  },
  {
   "cell_type": "markdown",
   "metadata": {},
   "source": [
    "#### null values that don't make sense - 'I have already exited from a Big 4 Accounting firm' or 'I have already exited from a mid-tier of local accounting firm'"
   ]
  },
  {
   "cell_type": "code",
   "execution_count": 63,
   "metadata": {},
   "outputs": [
    {
     "data": {
      "text/plain": [
       "I am currently working at a mid-tier or local accounting firm     397\n",
       "I am currently working at a Big 4 accounting firm                 325\n",
       "I have never worked at a public accounting firm                   199\n",
       "I am still in school                                               43\n",
       "I have already exited from a Big 4 Accounting firm                  3\n",
       "I have already exited from a mid-tier or local accounting firm      1\n",
       "Name: Exit Status, dtype: int64"
      ]
     },
     "execution_count": 63,
     "metadata": {},
     "output_type": "execute_result"
    }
   ],
   "source": [
    "us_accounting[(us_accounting['Years Public Before Exit'].isnull()==True)]['Exit Status'].value_counts()"
   ]
  },
  {
   "cell_type": "code",
   "execution_count": 64,
   "metadata": {},
   "outputs": [
    {
     "data": {
      "text/html": [
       "<div>\n",
       "<style scoped>\n",
       "    .dataframe tbody tr th:only-of-type {\n",
       "        vertical-align: middle;\n",
       "    }\n",
       "\n",
       "    .dataframe tbody tr th {\n",
       "        vertical-align: top;\n",
       "    }\n",
       "\n",
       "    .dataframe thead th {\n",
       "        text-align: right;\n",
       "    }\n",
       "</style>\n",
       "<table border=\"1\" class=\"dataframe\">\n",
       "  <thead>\n",
       "    <tr style=\"text-align: right;\">\n",
       "      <th></th>\n",
       "      <th>Exit Status</th>\n",
       "      <th>Has CPA</th>\n",
       "      <th>Years Experience</th>\n",
       "      <th>Current Salary + Bonus</th>\n",
       "      <th>Years Public Before Exit</th>\n",
       "      <th>Current Industry</th>\n",
       "      <th>What COL is your region?</th>\n",
       "      <th>Gender</th>\n",
       "      <th>Line of Service</th>\n",
       "      <th>Average Hours Per Week</th>\n",
       "    </tr>\n",
       "  </thead>\n",
       "  <tbody>\n",
       "    <tr>\n",
       "      <th>165</th>\n",
       "      <td>I have already exited from a mid-tier or local...</td>\n",
       "      <td>No</td>\n",
       "      <td>1.0</td>\n",
       "      <td>55000.0</td>\n",
       "      <td>NaN</td>\n",
       "      <td>Public Accounting</td>\n",
       "      <td>Low</td>\n",
       "      <td>Male</td>\n",
       "      <td>Tax</td>\n",
       "      <td>45.0</td>\n",
       "    </tr>\n",
       "    <tr>\n",
       "      <th>749</th>\n",
       "      <td>I have already exited from a Big 4 Accounting ...</td>\n",
       "      <td>No</td>\n",
       "      <td>6.0</td>\n",
       "      <td>108000.0</td>\n",
       "      <td>NaN</td>\n",
       "      <td>Public Accounting</td>\n",
       "      <td>High</td>\n",
       "      <td>Female</td>\n",
       "      <td>Advisory</td>\n",
       "      <td>35.0</td>\n",
       "    </tr>\n",
       "    <tr>\n",
       "      <th>786</th>\n",
       "      <td>I have already exited from a Big 4 Accounting ...</td>\n",
       "      <td>Yes</td>\n",
       "      <td>6.5</td>\n",
       "      <td>93000.0</td>\n",
       "      <td>NaN</td>\n",
       "      <td>Public Accounting</td>\n",
       "      <td>High</td>\n",
       "      <td>Female</td>\n",
       "      <td>Tax and Audit</td>\n",
       "      <td>NaN</td>\n",
       "    </tr>\n",
       "    <tr>\n",
       "      <th>1073</th>\n",
       "      <td>I have already exited from a Big 4 Accounting ...</td>\n",
       "      <td>Yes</td>\n",
       "      <td>12.0</td>\n",
       "      <td>127600.0</td>\n",
       "      <td>NaN</td>\n",
       "      <td>Other</td>\n",
       "      <td>Medium</td>\n",
       "      <td>Male</td>\n",
       "      <td>Audit</td>\n",
       "      <td>45.0</td>\n",
       "    </tr>\n",
       "  </tbody>\n",
       "</table>\n",
       "</div>"
      ],
      "text/plain": [
       "                                            Exit Status Has CPA  \\\n",
       "165   I have already exited from a mid-tier or local...      No   \n",
       "749   I have already exited from a Big 4 Accounting ...      No   \n",
       "786   I have already exited from a Big 4 Accounting ...     Yes   \n",
       "1073  I have already exited from a Big 4 Accounting ...     Yes   \n",
       "\n",
       "      Years Experience  Current Salary + Bonus  Years Public Before Exit  \\\n",
       "165                1.0                 55000.0                       NaN   \n",
       "749                6.0                108000.0                       NaN   \n",
       "786                6.5                 93000.0                       NaN   \n",
       "1073              12.0                127600.0                       NaN   \n",
       "\n",
       "       Current Industry What COL is your region?  Gender Line of Service  \\\n",
       "165   Public Accounting                      Low    Male             Tax   \n",
       "749   Public Accounting                     High  Female        Advisory   \n",
       "786   Public Accounting                     High  Female   Tax and Audit   \n",
       "1073              Other                   Medium    Male           Audit   \n",
       "\n",
       "      Average Hours Per Week  \n",
       "165                     45.0  \n",
       "749                     35.0  \n",
       "786                      NaN  \n",
       "1073                    45.0  "
      ]
     },
     "execution_count": 64,
     "metadata": {},
     "output_type": "execute_result"
    }
   ],
   "source": [
    "us_accounting[\n",
    "    (us_accounting['Years Public Before Exit'].isnull()==True) & \n",
    "    (\n",
    "        (us_accounting['Exit Status'] == 'I have already exited from a Big 4 Accounting firm') | \n",
    "        (us_accounting['Exit Status'] == 'I have already exited from a mid-tier or local accounting firm')\n",
    "    )\n",
    "]"
   ]
  },
  {
   "cell_type": "markdown",
   "metadata": {},
   "source": [
    "We could consider imputing the mean or the median for these NaN values in `'Years Public Before Exit'`"
   ]
  },
  {
   "cell_type": "code",
   "execution_count": 65,
   "metadata": {},
   "outputs": [
    {
     "name": "stdout",
     "output_type": "stream",
     "text": [
      "Median Years in Public Accounting before exiting:  3.0\n",
      "Mean Years in Public Accounting before exiting:  3.4611096491228066\n"
     ]
    },
    {
     "data": {
      "image/png": "[encoded data removed]",
      "text/plain": [
       "<Figure size 432x288 with 1 Axes>"
      ]
     },
     "metadata": {
      "needs_background": "light"
     },
     "output_type": "display_data"
    }
   ],
   "source": [
    "yrs_public_median = us_accounting['Years Public Before Exit'].median()\n",
    "yrs_public_mean = us_accounting['Years Public Before Exit'].mean()\n",
    "print('Median Years in Public Accounting before exiting: ', yrs_public_median)\n",
    "print('Mean Years in Public Accounting before exiting: ', yrs_public_mean)\n",
    "us_accounting['Years Public Before Exit'].hist()\n",
    "plt.axvline(yrs_public_median, color='r', label = 'median')\n",
    "plt.axvline(yrs_public_mean, color= 'black', linestyle='--', label='mean')\n",
    "plt.legend()\n",
    "plt.xlabel('Years Public Before Exit')\n",
    "plt.ylabel('Count');"
   ]
  },
  {
   "cell_type": "markdown",
   "metadata": {},
   "source": [
    "The distribution looks right-skewed, so the median will be a better choice to impute.  This makes sense for all the values, except for the one below.  It's reasonable to assume that if one has exited from public accounting, their `'Years Experience'` would be higher than their `'Years Public Before Exit'`.  If we impute the Median Years Before Exit of 3, this will be greater than their `'Years Experience`' of 1.  I'm unsure of how to handle this, but I my plan is to make their `'Years Public Before Exit'` equal the '`Years Experience'` value.  Since it's only one data value and the sample size is large, it shouldn't affect the overall sample too much."
   ]
  },
  {
   "cell_type": "code",
   "execution_count": 66,
   "metadata": {},
   "outputs": [
    {
     "data": {
      "text/plain": [
       "Exit Status                 I am currently working at a mid-tier or local ...\n",
       "Has CPA                                                                    No\n",
       "Years Experience                                                          1.0\n",
       "Current Salary + Bonus                                                62500.0\n",
       "Years Public Before Exit                                                  1.0\n",
       "Current Industry                                            Public Accounting\n",
       "What COL is your region?                                               Medium\n",
       "Gender                                                                   Male\n",
       "Line of Service                                                         Audit\n",
       "Average Hours Per Week                                                   43.0\n",
       "Name: 167, dtype: object"
      ]
     },
     "execution_count": 66,
     "metadata": {},
     "output_type": "execute_result"
    }
   ],
   "source": [
    "us_accounting.iloc[164, 4] = 1\n",
    "us_accounting.iloc[164,:]"
   ]
  },
  {
   "cell_type": "markdown",
   "metadata": {},
   "source": [
    "Now let's fill the remaining NaN values with the median , for the people who state they've exited public accounting"
   ]
  },
  {
   "cell_type": "code",
   "execution_count": 67,
   "metadata": {},
   "outputs": [
    {
     "data": {
      "text/html": [
       "<div>\n",
       "<style scoped>\n",
       "    .dataframe tbody tr th:only-of-type {\n",
       "        vertical-align: middle;\n",
       "    }\n",
       "\n",
       "    .dataframe tbody tr th {\n",
       "        vertical-align: top;\n",
       "    }\n",
       "\n",
       "    .dataframe thead th {\n",
       "        text-align: right;\n",
       "    }\n",
       "</style>\n",
       "<table border=\"1\" class=\"dataframe\">\n",
       "  <thead>\n",
       "    <tr style=\"text-align: right;\">\n",
       "      <th></th>\n",
       "      <th>Exit Status</th>\n",
       "      <th>Has CPA</th>\n",
       "      <th>Years Experience</th>\n",
       "      <th>Current Salary + Bonus</th>\n",
       "      <th>Years Public Before Exit</th>\n",
       "      <th>Current Industry</th>\n",
       "      <th>What COL is your region?</th>\n",
       "      <th>Gender</th>\n",
       "      <th>Line of Service</th>\n",
       "      <th>Average Hours Per Week</th>\n",
       "    </tr>\n",
       "  </thead>\n",
       "  <tbody>\n",
       "    <tr>\n",
       "      <th>165</th>\n",
       "      <td>I have already exited from a mid-tier or local...</td>\n",
       "      <td>No</td>\n",
       "      <td>1.0</td>\n",
       "      <td>55000.0</td>\n",
       "      <td>NaN</td>\n",
       "      <td>Public Accounting</td>\n",
       "      <td>Low</td>\n",
       "      <td>Male</td>\n",
       "      <td>Tax</td>\n",
       "      <td>45.0</td>\n",
       "    </tr>\n",
       "    <tr>\n",
       "      <th>749</th>\n",
       "      <td>I have already exited from a Big 4 Accounting ...</td>\n",
       "      <td>No</td>\n",
       "      <td>6.0</td>\n",
       "      <td>108000.0</td>\n",
       "      <td>NaN</td>\n",
       "      <td>Public Accounting</td>\n",
       "      <td>High</td>\n",
       "      <td>Female</td>\n",
       "      <td>Advisory</td>\n",
       "      <td>35.0</td>\n",
       "    </tr>\n",
       "    <tr>\n",
       "      <th>786</th>\n",
       "      <td>I have already exited from a Big 4 Accounting ...</td>\n",
       "      <td>Yes</td>\n",
       "      <td>6.5</td>\n",
       "      <td>93000.0</td>\n",
       "      <td>NaN</td>\n",
       "      <td>Public Accounting</td>\n",
       "      <td>High</td>\n",
       "      <td>Female</td>\n",
       "      <td>Tax and Audit</td>\n",
       "      <td>NaN</td>\n",
       "    </tr>\n",
       "    <tr>\n",
       "      <th>1073</th>\n",
       "      <td>I have already exited from a Big 4 Accounting ...</td>\n",
       "      <td>Yes</td>\n",
       "      <td>12.0</td>\n",
       "      <td>127600.0</td>\n",
       "      <td>NaN</td>\n",
       "      <td>Other</td>\n",
       "      <td>Medium</td>\n",
       "      <td>Male</td>\n",
       "      <td>Audit</td>\n",
       "      <td>45.0</td>\n",
       "    </tr>\n",
       "  </tbody>\n",
       "</table>\n",
       "</div>"
      ],
      "text/plain": [
       "                                            Exit Status Has CPA  \\\n",
       "165   I have already exited from a mid-tier or local...      No   \n",
       "749   I have already exited from a Big 4 Accounting ...      No   \n",
       "786   I have already exited from a Big 4 Accounting ...     Yes   \n",
       "1073  I have already exited from a Big 4 Accounting ...     Yes   \n",
       "\n",
       "      Years Experience  Current Salary + Bonus  Years Public Before Exit  \\\n",
       "165                1.0                 55000.0                       NaN   \n",
       "749                6.0                108000.0                       NaN   \n",
       "786                6.5                 93000.0                       NaN   \n",
       "1073              12.0                127600.0                       NaN   \n",
       "\n",
       "       Current Industry What COL is your region?  Gender Line of Service  \\\n",
       "165   Public Accounting                      Low    Male             Tax   \n",
       "749   Public Accounting                     High  Female        Advisory   \n",
       "786   Public Accounting                     High  Female   Tax and Audit   \n",
       "1073              Other                   Medium    Male           Audit   \n",
       "\n",
       "      Average Hours Per Week  \n",
       "165                     45.0  \n",
       "749                     35.0  \n",
       "786                      NaN  \n",
       "1073                    45.0  "
      ]
     },
     "execution_count": 67,
     "metadata": {},
     "output_type": "execute_result"
    }
   ],
   "source": [
    "already_exited = us_accounting[\n",
    "    (us_accounting['Years Public Before Exit'].isnull()==True) & \n",
    "    (\n",
    "        (us_accounting['Exit Status'] == 'I have already exited from a Big 4 Accounting firm') | \n",
    "        (us_accounting['Exit Status'] == 'I have already exited from a mid-tier or local accounting firm')\n",
    "    )\n",
    "]\n",
    "already_exited"
   ]
  },
  {
   "cell_type": "code",
   "execution_count": 68,
   "metadata": {},
   "outputs": [],
   "source": [
    "us_accounting.loc[\n",
    "    (us_accounting['Years Public Before Exit'].isnull()==True) & \n",
    "    (\n",
    "        (us_accounting['Exit Status'] == 'I have already exited from a Big 4 Accounting firm') | \n",
    "        (us_accounting['Exit Status'] == 'I have already exited from a mid-tier or local accounting firm')\n",
    "    ),\n",
    "    'Years Public Before Exit'\n",
    "] = yrs_public_median"
   ]
  },
  {
   "cell_type": "code",
   "execution_count": 69,
   "metadata": {},
   "outputs": [
    {
     "data": {
      "text/html": [
       "<div>\n",
       "<style scoped>\n",
       "    .dataframe tbody tr th:only-of-type {\n",
       "        vertical-align: middle;\n",
       "    }\n",
       "\n",
       "    .dataframe tbody tr th {\n",
       "        vertical-align: top;\n",
       "    }\n",
       "\n",
       "    .dataframe thead th {\n",
       "        text-align: right;\n",
       "    }\n",
       "</style>\n",
       "<table border=\"1\" class=\"dataframe\">\n",
       "  <thead>\n",
       "    <tr style=\"text-align: right;\">\n",
       "      <th></th>\n",
       "      <th>Exit Status</th>\n",
       "      <th>Has CPA</th>\n",
       "      <th>Years Experience</th>\n",
       "      <th>Current Salary + Bonus</th>\n",
       "      <th>Years Public Before Exit</th>\n",
       "      <th>Current Industry</th>\n",
       "      <th>What COL is your region?</th>\n",
       "      <th>Gender</th>\n",
       "      <th>Line of Service</th>\n",
       "      <th>Average Hours Per Week</th>\n",
       "    </tr>\n",
       "  </thead>\n",
       "  <tbody>\n",
       "  </tbody>\n",
       "</table>\n",
       "</div>"
      ],
      "text/plain": [
       "Empty DataFrame\n",
       "Columns: [Exit Status, Has CPA, Years Experience, Current Salary + Bonus, Years Public Before Exit, Current Industry, What COL is your region?, Gender, Line of Service, Average Hours Per Week]\n",
       "Index: []"
      ]
     },
     "execution_count": 69,
     "metadata": {},
     "output_type": "execute_result"
    }
   ],
   "source": [
    "us_accounting[\n",
    "    (us_accounting['Years Public Before Exit'].isnull()==True) & \n",
    "    (\n",
    "        (us_accounting['Exit Status'] == 'I have already exited from a Big 4 Accounting firm') | \n",
    "        (us_accounting['Exit Status'] == 'I have already exited from a mid-tier or local accounting firm')\n",
    "    )\n",
    "]"
   ]
  },
  {
   "cell_type": "code",
   "execution_count": 70,
   "metadata": {},
   "outputs": [
    {
     "data": {
      "text/plain": [
       "I am currently working at a mid-tier or local accounting firm    396\n",
       "I am currently working at a Big 4 accounting firm                325\n",
       "I have never worked at a public accounting firm                  199\n",
       "I am still in school                                              43\n",
       "Name: Exit Status, dtype: int64"
      ]
     },
     "execution_count": 70,
     "metadata": {},
     "output_type": "execute_result"
    }
   ],
   "source": [
    "us_accounting[(us_accounting['Years Public Before Exit'].isnull()==True)]['Exit Status'].value_counts()"
   ]
  },
  {
   "cell_type": "markdown",
   "metadata": {},
   "source": [
    "Now the only NaN entries are ones that make sense given someone's `'Exit Status'`'"
   ]
  },
  {
   "cell_type": "markdown",
   "metadata": {},
   "source": [
    "## Non-Null Values"
   ]
  },
  {
   "cell_type": "markdown",
   "metadata": {},
   "source": [
    "We run into a similar problem with some of the non-null values in `'Exit Status'`.  The only people who should have non-null values here are the people who have already exited from a public accounting firm, however there are people who are saying they are still working in public accounting, or who have never worked in it, who responded to this field of the survey"
   ]
  },
  {
   "cell_type": "markdown",
   "metadata": {},
   "source": [
    "#### non-null values - 'I have never worked at a public accounting firm'"
   ]
  },
  {
   "cell_type": "code",
   "execution_count": 71,
   "metadata": {},
   "outputs": [
    {
     "data": {
      "text/plain": [
       "I have already exited from a Big 4 Accounting firm                111\n",
       "I have already exited from a mid-tier or local accounting firm    104\n",
       "I am currently working at a mid-tier or local accounting firm       7\n",
       "I have never worked at a public accounting firm                     7\n",
       "I am currently working at a Big 4 accounting firm                   4\n",
       "Name: Exit Status, dtype: int64"
      ]
     },
     "execution_count": 71,
     "metadata": {},
     "output_type": "execute_result"
    }
   ],
   "source": [
    "us_accounting[(us_accounting['Years Public Before Exit'].isnull()==False)]['Exit Status'].value_counts()"
   ]
  },
  {
   "cell_type": "markdown",
   "metadata": {},
   "source": [
    "When one has never worked at a public accounting firm, it makes more sense to have a NaN value than a 0 value for `'Years Before Public Exit'`."
   ]
  },
  {
   "cell_type": "code",
   "execution_count": 72,
   "metadata": {},
   "outputs": [
    {
     "data": {
      "text/html": [
       "<div>\n",
       "<style scoped>\n",
       "    .dataframe tbody tr th:only-of-type {\n",
       "        vertical-align: middle;\n",
       "    }\n",
       "\n",
       "    .dataframe tbody tr th {\n",
       "        vertical-align: top;\n",
       "    }\n",
       "\n",
       "    .dataframe thead th {\n",
       "        text-align: right;\n",
       "    }\n",
       "</style>\n",
       "<table border=\"1\" class=\"dataframe\">\n",
       "  <thead>\n",
       "    <tr style=\"text-align: right;\">\n",
       "      <th></th>\n",
       "      <th>Exit Status</th>\n",
       "      <th>Has CPA</th>\n",
       "      <th>Years Experience</th>\n",
       "      <th>Current Salary + Bonus</th>\n",
       "      <th>Years Public Before Exit</th>\n",
       "      <th>Current Industry</th>\n",
       "      <th>What COL is your region?</th>\n",
       "      <th>Gender</th>\n",
       "      <th>Line of Service</th>\n",
       "      <th>Average Hours Per Week</th>\n",
       "    </tr>\n",
       "  </thead>\n",
       "  <tbody>\n",
       "    <tr>\n",
       "      <th>29</th>\n",
       "      <td>I have never worked at a public accounting firm</td>\n",
       "      <td>No</td>\n",
       "      <td>1.0</td>\n",
       "      <td>44000.0</td>\n",
       "      <td>0.0</td>\n",
       "      <td>Government</td>\n",
       "      <td>Low</td>\n",
       "      <td>Male</td>\n",
       "      <td>Audit</td>\n",
       "      <td>NaN</td>\n",
       "    </tr>\n",
       "    <tr>\n",
       "      <th>578</th>\n",
       "      <td>I have never worked at a public accounting firm</td>\n",
       "      <td>No</td>\n",
       "      <td>5.0</td>\n",
       "      <td>150000.0</td>\n",
       "      <td>0.0</td>\n",
       "      <td>Energy</td>\n",
       "      <td>Medium</td>\n",
       "      <td>Undisclosed</td>\n",
       "      <td>Other</td>\n",
       "      <td>NaN</td>\n",
       "    </tr>\n",
       "    <tr>\n",
       "      <th>589</th>\n",
       "      <td>I have never worked at a public accounting firm</td>\n",
       "      <td>No</td>\n",
       "      <td>5.0</td>\n",
       "      <td>60000.0</td>\n",
       "      <td>0.0</td>\n",
       "      <td>Construction</td>\n",
       "      <td>High</td>\n",
       "      <td>Male</td>\n",
       "      <td>Other</td>\n",
       "      <td>NaN</td>\n",
       "    </tr>\n",
       "    <tr>\n",
       "      <th>780</th>\n",
       "      <td>I have never worked at a public accounting firm</td>\n",
       "      <td>No</td>\n",
       "      <td>8.0</td>\n",
       "      <td>65000.0</td>\n",
       "      <td>0.0</td>\n",
       "      <td>Manufacturing</td>\n",
       "      <td>Low</td>\n",
       "      <td>Female</td>\n",
       "      <td>Other</td>\n",
       "      <td>45.0</td>\n",
       "    </tr>\n",
       "    <tr>\n",
       "      <th>868</th>\n",
       "      <td>I have never worked at a public accounting firm</td>\n",
       "      <td>Yes</td>\n",
       "      <td>13.0</td>\n",
       "      <td>100000.0</td>\n",
       "      <td>0.0</td>\n",
       "      <td>Finance</td>\n",
       "      <td>Medium</td>\n",
       "      <td>Male</td>\n",
       "      <td>Advisory</td>\n",
       "      <td>NaN</td>\n",
       "    </tr>\n",
       "    <tr>\n",
       "      <th>987</th>\n",
       "      <td>I have never worked at a public accounting firm</td>\n",
       "      <td>No</td>\n",
       "      <td>4.0</td>\n",
       "      <td>50000.0</td>\n",
       "      <td>1.5</td>\n",
       "      <td>Medical</td>\n",
       "      <td>Medium</td>\n",
       "      <td>Male</td>\n",
       "      <td>Other</td>\n",
       "      <td>45.0</td>\n",
       "    </tr>\n",
       "    <tr>\n",
       "      <th>1153</th>\n",
       "      <td>I have never worked at a public accounting firm</td>\n",
       "      <td>No</td>\n",
       "      <td>6.0</td>\n",
       "      <td>132000.0</td>\n",
       "      <td>0.0</td>\n",
       "      <td>Manufacturing</td>\n",
       "      <td>Medium</td>\n",
       "      <td>Female</td>\n",
       "      <td>Other</td>\n",
       "      <td>45.0</td>\n",
       "    </tr>\n",
       "  </tbody>\n",
       "</table>\n",
       "</div>"
      ],
      "text/plain": [
       "                                          Exit Status Has CPA  \\\n",
       "29    I have never worked at a public accounting firm      No   \n",
       "578   I have never worked at a public accounting firm      No   \n",
       "589   I have never worked at a public accounting firm      No   \n",
       "780   I have never worked at a public accounting firm      No   \n",
       "868   I have never worked at a public accounting firm     Yes   \n",
       "987   I have never worked at a public accounting firm      No   \n",
       "1153  I have never worked at a public accounting firm      No   \n",
       "\n",
       "      Years Experience  Current Salary + Bonus  Years Public Before Exit  \\\n",
       "29                 1.0                 44000.0                       0.0   \n",
       "578                5.0                150000.0                       0.0   \n",
       "589                5.0                 60000.0                       0.0   \n",
       "780                8.0                 65000.0                       0.0   \n",
       "868               13.0                100000.0                       0.0   \n",
       "987                4.0                 50000.0                       1.5   \n",
       "1153               6.0                132000.0                       0.0   \n",
       "\n",
       "     Current Industry What COL is your region?       Gender Line of Service  \\\n",
       "29         Government                      Low         Male           Audit   \n",
       "578            Energy                   Medium  Undisclosed           Other   \n",
       "589      Construction                     High         Male           Other   \n",
       "780     Manufacturing                      Low       Female           Other   \n",
       "868           Finance                   Medium         Male        Advisory   \n",
       "987           Medical                   Medium         Male           Other   \n",
       "1153    Manufacturing                   Medium       Female           Other   \n",
       "\n",
       "      Average Hours Per Week  \n",
       "29                       NaN  \n",
       "578                      NaN  \n",
       "589                      NaN  \n",
       "780                     45.0  \n",
       "868                      NaN  \n",
       "987                     45.0  \n",
       "1153                    45.0  "
      ]
     },
     "execution_count": 72,
     "metadata": {},
     "output_type": "execute_result"
    }
   ],
   "source": [
    "us_accounting[(us_accounting['Years Public Before Exit'].isnull()==False) & (us_accounting['Exit Status'] == 'I have never worked at a public accounting firm')]"
   ]
  },
  {
   "cell_type": "code",
   "execution_count": 73,
   "metadata": {},
   "outputs": [],
   "source": [
    "us_accounting.loc[(us_accounting['Years Public Before Exit'].isnull()==False) & (us_accounting['Exit Status'] == 'I have never worked at a public accounting firm') & (us_accounting['Years Public Before Exit']==0), 'Years Public Before Exit'] = np.nan"
   ]
  },
  {
   "cell_type": "markdown",
   "metadata": {},
   "source": [
    "For the remaining entry where `Years Public Before Exit` is 1.5, I'm not sure what to do.  This person either must have entered `Exit Status` or `Years Public Before Exit` incorrectly.  Given how explicit the `Years Public Before Exit` question was on the survey, I suspect they entered `Exit Status` in incorrectly.  I'm going to change their `Exit Status` to the most frequent already exited response."
   ]
  },
  {
   "cell_type": "code",
   "execution_count": 74,
   "metadata": {},
   "outputs": [
    {
     "data": {
      "text/html": [
       "<div>\n",
       "<style scoped>\n",
       "    .dataframe tbody tr th:only-of-type {\n",
       "        vertical-align: middle;\n",
       "    }\n",
       "\n",
       "    .dataframe tbody tr th {\n",
       "        vertical-align: top;\n",
       "    }\n",
       "\n",
       "    .dataframe thead th {\n",
       "        text-align: right;\n",
       "    }\n",
       "</style>\n",
       "<table border=\"1\" class=\"dataframe\">\n",
       "  <thead>\n",
       "    <tr style=\"text-align: right;\">\n",
       "      <th></th>\n",
       "      <th>Exit Status</th>\n",
       "      <th>Has CPA</th>\n",
       "      <th>Years Experience</th>\n",
       "      <th>Current Salary + Bonus</th>\n",
       "      <th>Years Public Before Exit</th>\n",
       "      <th>Current Industry</th>\n",
       "      <th>What COL is your region?</th>\n",
       "      <th>Gender</th>\n",
       "      <th>Line of Service</th>\n",
       "      <th>Average Hours Per Week</th>\n",
       "    </tr>\n",
       "  </thead>\n",
       "  <tbody>\n",
       "    <tr>\n",
       "      <th>987</th>\n",
       "      <td>I have never worked at a public accounting firm</td>\n",
       "      <td>No</td>\n",
       "      <td>4.0</td>\n",
       "      <td>50000.0</td>\n",
       "      <td>1.5</td>\n",
       "      <td>Medical</td>\n",
       "      <td>Medium</td>\n",
       "      <td>Male</td>\n",
       "      <td>Other</td>\n",
       "      <td>45.0</td>\n",
       "    </tr>\n",
       "  </tbody>\n",
       "</table>\n",
       "</div>"
      ],
      "text/plain": [
       "                                         Exit Status Has CPA  \\\n",
       "987  I have never worked at a public accounting firm      No   \n",
       "\n",
       "     Years Experience  Current Salary + Bonus  Years Public Before Exit  \\\n",
       "987               4.0                 50000.0                       1.5   \n",
       "\n",
       "    Current Industry What COL is your region? Gender Line of Service  \\\n",
       "987          Medical                   Medium   Male           Other   \n",
       "\n",
       "     Average Hours Per Week  \n",
       "987                    45.0  "
      ]
     },
     "execution_count": 74,
     "metadata": {},
     "output_type": "execute_result"
    }
   ],
   "source": [
    "us_accounting[(us_accounting['Years Public Before Exit'].isnull()==False) & (us_accounting['Exit Status'] == 'I have never worked at a public accounting firm')]"
   ]
  },
  {
   "cell_type": "code",
   "execution_count": 75,
   "metadata": {},
   "outputs": [
    {
     "data": {
      "text/plain": [
       "I am currently working at a mid-tier or local accounting firm     403\n",
       "I am currently working at a Big 4 accounting firm                 329\n",
       "I have never worked at a public accounting firm                   206\n",
       "I have already exited from a Big 4 Accounting firm                111\n",
       "I have already exited from a mid-tier or local accounting firm    104\n",
       "I am still in school                                               43\n",
       "Name: Exit Status, dtype: int64"
      ]
     },
     "execution_count": 75,
     "metadata": {},
     "output_type": "execute_result"
    }
   ],
   "source": [
    "us_accounting['Exit Status'].value_counts()"
   ]
  },
  {
   "cell_type": "code",
   "execution_count": 76,
   "metadata": {},
   "outputs": [],
   "source": [
    "us_accounting.loc[(us_accounting['Years Public Before Exit'].isnull()==False) & (us_accounting['Exit Status'] == 'I have never worked at a public accounting firm'), 'Exit Status'] = 'I have already exited from a Big 4 Accounting firm' "
   ]
  },
  {
   "cell_type": "code",
   "execution_count": 77,
   "metadata": {},
   "outputs": [
    {
     "data": {
      "text/plain": [
       "I have already exited from a Big 4 Accounting firm                112\n",
       "I have already exited from a mid-tier or local accounting firm    104\n",
       "I am currently working at a mid-tier or local accounting firm       7\n",
       "I am currently working at a Big 4 accounting firm                   4\n",
       "Name: Exit Status, dtype: int64"
      ]
     },
     "execution_count": 77,
     "metadata": {},
     "output_type": "execute_result"
    }
   ],
   "source": [
    "us_accounting[(us_accounting['Years Public Before Exit'].isnull()==False)]['Exit Status'].value_counts()"
   ]
  },
  {
   "cell_type": "markdown",
   "metadata": {},
   "source": [
    "### non-null values - 'I am currently working at a mid-tier or local accounting firm'"
   ]
  },
  {
   "cell_type": "markdown",
   "metadata": {},
   "source": [
    "Since all of these people say they're still working at a public firm, it again makes sense to set the `'Years Public Before Exit'` values to NaN"
   ]
  },
  {
   "cell_type": "code",
   "execution_count": 78,
   "metadata": {},
   "outputs": [
    {
     "data": {
      "text/html": [
       "<div>\n",
       "<style scoped>\n",
       "    .dataframe tbody tr th:only-of-type {\n",
       "        vertical-align: middle;\n",
       "    }\n",
       "\n",
       "    .dataframe tbody tr th {\n",
       "        vertical-align: top;\n",
       "    }\n",
       "\n",
       "    .dataframe thead th {\n",
       "        text-align: right;\n",
       "    }\n",
       "</style>\n",
       "<table border=\"1\" class=\"dataframe\">\n",
       "  <thead>\n",
       "    <tr style=\"text-align: right;\">\n",
       "      <th></th>\n",
       "      <th>Exit Status</th>\n",
       "      <th>Has CPA</th>\n",
       "      <th>Years Experience</th>\n",
       "      <th>Current Salary + Bonus</th>\n",
       "      <th>Years Public Before Exit</th>\n",
       "      <th>Current Industry</th>\n",
       "      <th>What COL is your region?</th>\n",
       "      <th>Gender</th>\n",
       "      <th>Line of Service</th>\n",
       "      <th>Average Hours Per Week</th>\n",
       "    </tr>\n",
       "  </thead>\n",
       "  <tbody>\n",
       "    <tr>\n",
       "      <th>76</th>\n",
       "      <td>I am currently working at a mid-tier or local ...</td>\n",
       "      <td>No</td>\n",
       "      <td>1.0</td>\n",
       "      <td>56000.0</td>\n",
       "      <td>1.0</td>\n",
       "      <td>Public Accounting</td>\n",
       "      <td>Medium</td>\n",
       "      <td>Female</td>\n",
       "      <td>Tax</td>\n",
       "      <td>NaN</td>\n",
       "    </tr>\n",
       "    <tr>\n",
       "      <th>167</th>\n",
       "      <td>I am currently working at a mid-tier or local ...</td>\n",
       "      <td>No</td>\n",
       "      <td>1.0</td>\n",
       "      <td>62500.0</td>\n",
       "      <td>1.0</td>\n",
       "      <td>Public Accounting</td>\n",
       "      <td>Medium</td>\n",
       "      <td>Male</td>\n",
       "      <td>Audit</td>\n",
       "      <td>43.0</td>\n",
       "    </tr>\n",
       "    <tr>\n",
       "      <th>404</th>\n",
       "      <td>I am currently working at a mid-tier or local ...</td>\n",
       "      <td>Yes</td>\n",
       "      <td>3.0</td>\n",
       "      <td>48500.0</td>\n",
       "      <td>3.0</td>\n",
       "      <td>Public Accounting</td>\n",
       "      <td>Medium</td>\n",
       "      <td>Male</td>\n",
       "      <td>Tax</td>\n",
       "      <td>NaN</td>\n",
       "    </tr>\n",
       "    <tr>\n",
       "      <th>430</th>\n",
       "      <td>I am currently working at a mid-tier or local ...</td>\n",
       "      <td>No</td>\n",
       "      <td>3.0</td>\n",
       "      <td>60000.0</td>\n",
       "      <td>2.5</td>\n",
       "      <td>Public Accounting</td>\n",
       "      <td>High</td>\n",
       "      <td>Female</td>\n",
       "      <td>Tax</td>\n",
       "      <td>60.0</td>\n",
       "    </tr>\n",
       "    <tr>\n",
       "      <th>640</th>\n",
       "      <td>I am currently working at a mid-tier or local ...</td>\n",
       "      <td>Finishing Exp Req</td>\n",
       "      <td>5.0</td>\n",
       "      <td>90000.0</td>\n",
       "      <td>5.0</td>\n",
       "      <td>Public Accounting</td>\n",
       "      <td>High</td>\n",
       "      <td>Male</td>\n",
       "      <td>Audit</td>\n",
       "      <td>45.0</td>\n",
       "    </tr>\n",
       "    <tr>\n",
       "      <th>668</th>\n",
       "      <td>I am currently working at a mid-tier or local ...</td>\n",
       "      <td>Yes</td>\n",
       "      <td>6.0</td>\n",
       "      <td>90000.0</td>\n",
       "      <td>4.0</td>\n",
       "      <td>Public Accounting</td>\n",
       "      <td>Medium</td>\n",
       "      <td>Male</td>\n",
       "      <td>Advisory</td>\n",
       "      <td>NaN</td>\n",
       "    </tr>\n",
       "    <tr>\n",
       "      <th>679</th>\n",
       "      <td>I am currently working at a mid-tier or local ...</td>\n",
       "      <td>Yes</td>\n",
       "      <td>6.0</td>\n",
       "      <td>93000.0</td>\n",
       "      <td>3.0</td>\n",
       "      <td>Public Accounting</td>\n",
       "      <td>Medium</td>\n",
       "      <td>Male</td>\n",
       "      <td>Advisory</td>\n",
       "      <td>NaN</td>\n",
       "    </tr>\n",
       "  </tbody>\n",
       "</table>\n",
       "</div>"
      ],
      "text/plain": [
       "                                           Exit Status            Has CPA  \\\n",
       "76   I am currently working at a mid-tier or local ...                 No   \n",
       "167  I am currently working at a mid-tier or local ...                 No   \n",
       "404  I am currently working at a mid-tier or local ...                Yes   \n",
       "430  I am currently working at a mid-tier or local ...                 No   \n",
       "640  I am currently working at a mid-tier or local ...  Finishing Exp Req   \n",
       "668  I am currently working at a mid-tier or local ...                Yes   \n",
       "679  I am currently working at a mid-tier or local ...                Yes   \n",
       "\n",
       "     Years Experience  Current Salary + Bonus  Years Public Before Exit  \\\n",
       "76                1.0                 56000.0                       1.0   \n",
       "167               1.0                 62500.0                       1.0   \n",
       "404               3.0                 48500.0                       3.0   \n",
       "430               3.0                 60000.0                       2.5   \n",
       "640               5.0                 90000.0                       5.0   \n",
       "668               6.0                 90000.0                       4.0   \n",
       "679               6.0                 93000.0                       3.0   \n",
       "\n",
       "      Current Industry What COL is your region?  Gender Line of Service  \\\n",
       "76   Public Accounting                   Medium  Female             Tax   \n",
       "167  Public Accounting                   Medium    Male           Audit   \n",
       "404  Public Accounting                   Medium    Male             Tax   \n",
       "430  Public Accounting                     High  Female             Tax   \n",
       "640  Public Accounting                     High    Male           Audit   \n",
       "668  Public Accounting                   Medium    Male        Advisory   \n",
       "679  Public Accounting                   Medium    Male        Advisory   \n",
       "\n",
       "     Average Hours Per Week  \n",
       "76                      NaN  \n",
       "167                    43.0  \n",
       "404                     NaN  \n",
       "430                    60.0  \n",
       "640                    45.0  \n",
       "668                     NaN  \n",
       "679                     NaN  "
      ]
     },
     "execution_count": 78,
     "metadata": {},
     "output_type": "execute_result"
    }
   ],
   "source": [
    "us_accounting[(us_accounting['Years Public Before Exit'].isnull()==False) & (us_accounting['Exit Status'] == 'I am currently working at a mid-tier or local accounting firm')]"
   ]
  },
  {
   "cell_type": "code",
   "execution_count": 79,
   "metadata": {},
   "outputs": [],
   "source": [
    "us_accounting.loc[(us_accounting['Years Public Before Exit'].isnull()==False) & (us_accounting['Exit Status'] == 'I am currently working at a mid-tier or local accounting firm'), 'Years Public Before Exit'] = np.nan"
   ]
  },
  {
   "cell_type": "code",
   "execution_count": 80,
   "metadata": {},
   "outputs": [
    {
     "data": {
      "text/html": [
       "<div>\n",
       "<style scoped>\n",
       "    .dataframe tbody tr th:only-of-type {\n",
       "        vertical-align: middle;\n",
       "    }\n",
       "\n",
       "    .dataframe tbody tr th {\n",
       "        vertical-align: top;\n",
       "    }\n",
       "\n",
       "    .dataframe thead th {\n",
       "        text-align: right;\n",
       "    }\n",
       "</style>\n",
       "<table border=\"1\" class=\"dataframe\">\n",
       "  <thead>\n",
       "    <tr style=\"text-align: right;\">\n",
       "      <th></th>\n",
       "      <th>Exit Status</th>\n",
       "      <th>Has CPA</th>\n",
       "      <th>Years Experience</th>\n",
       "      <th>Current Salary + Bonus</th>\n",
       "      <th>Years Public Before Exit</th>\n",
       "      <th>Current Industry</th>\n",
       "      <th>What COL is your region?</th>\n",
       "      <th>Gender</th>\n",
       "      <th>Line of Service</th>\n",
       "      <th>Average Hours Per Week</th>\n",
       "    </tr>\n",
       "  </thead>\n",
       "  <tbody>\n",
       "  </tbody>\n",
       "</table>\n",
       "</div>"
      ],
      "text/plain": [
       "Empty DataFrame\n",
       "Columns: [Exit Status, Has CPA, Years Experience, Current Salary + Bonus, Years Public Before Exit, Current Industry, What COL is your region?, Gender, Line of Service, Average Hours Per Week]\n",
       "Index: []"
      ]
     },
     "execution_count": 80,
     "metadata": {},
     "output_type": "execute_result"
    }
   ],
   "source": [
    "us_accounting[(us_accounting['Years Public Before Exit'].isnull()==False) & (us_accounting['Exit Status'] == 'I am currently working at a mid-tier or local accounting firm')]"
   ]
  },
  {
   "cell_type": "code",
   "execution_count": 81,
   "metadata": {},
   "outputs": [
    {
     "data": {
      "text/plain": [
       "I have already exited from a Big 4 Accounting firm                112\n",
       "I have already exited from a mid-tier or local accounting firm    104\n",
       "I am currently working at a Big 4 accounting firm                   4\n",
       "Name: Exit Status, dtype: int64"
      ]
     },
     "execution_count": 81,
     "metadata": {},
     "output_type": "execute_result"
    }
   ],
   "source": [
    "us_accounting[(us_accounting['Years Public Before Exit'].isnull()==False)]['Exit Status'].value_counts()"
   ]
  },
  {
   "cell_type": "markdown",
   "metadata": {},
   "source": [
    "### non-null values - 'I am currently working at a Big 4 accounting firm'"
   ]
  },
  {
   "cell_type": "markdown",
   "metadata": {},
   "source": [
    "One more time, since all of these people say they're still working at a public firm, we'll set their `Years Public Before Exit` to NaN"
   ]
  },
  {
   "cell_type": "code",
   "execution_count": 82,
   "metadata": {},
   "outputs": [
    {
     "data": {
      "text/html": [
       "<div>\n",
       "<style scoped>\n",
       "    .dataframe tbody tr th:only-of-type {\n",
       "        vertical-align: middle;\n",
       "    }\n",
       "\n",
       "    .dataframe tbody tr th {\n",
       "        vertical-align: top;\n",
       "    }\n",
       "\n",
       "    .dataframe thead th {\n",
       "        text-align: right;\n",
       "    }\n",
       "</style>\n",
       "<table border=\"1\" class=\"dataframe\">\n",
       "  <thead>\n",
       "    <tr style=\"text-align: right;\">\n",
       "      <th></th>\n",
       "      <th>Exit Status</th>\n",
       "      <th>Has CPA</th>\n",
       "      <th>Years Experience</th>\n",
       "      <th>Current Salary + Bonus</th>\n",
       "      <th>Years Public Before Exit</th>\n",
       "      <th>Current Industry</th>\n",
       "      <th>What COL is your region?</th>\n",
       "      <th>Gender</th>\n",
       "      <th>Line of Service</th>\n",
       "      <th>Average Hours Per Week</th>\n",
       "    </tr>\n",
       "  </thead>\n",
       "  <tbody>\n",
       "    <tr>\n",
       "      <th>423</th>\n",
       "      <td>I am currently working at a Big 4 accounting firm</td>\n",
       "      <td>No</td>\n",
       "      <td>3.0</td>\n",
       "      <td>94000.0</td>\n",
       "      <td>3.0</td>\n",
       "      <td>Public Accounting</td>\n",
       "      <td>High</td>\n",
       "      <td>Male</td>\n",
       "      <td>Tax</td>\n",
       "      <td>45.0</td>\n",
       "    </tr>\n",
       "    <tr>\n",
       "      <th>657</th>\n",
       "      <td>I am currently working at a Big 4 accounting firm</td>\n",
       "      <td>No</td>\n",
       "      <td>5.0</td>\n",
       "      <td>170000.0</td>\n",
       "      <td>5.0</td>\n",
       "      <td>Public Accounting</td>\n",
       "      <td>Medium</td>\n",
       "      <td>Male</td>\n",
       "      <td>Tax</td>\n",
       "      <td>50.0</td>\n",
       "    </tr>\n",
       "    <tr>\n",
       "      <th>776</th>\n",
       "      <td>I am currently working at a Big 4 accounting firm</td>\n",
       "      <td>Yes</td>\n",
       "      <td>8.0</td>\n",
       "      <td>140000.0</td>\n",
       "      <td>3.0</td>\n",
       "      <td>Public Accounting</td>\n",
       "      <td>High</td>\n",
       "      <td>Female</td>\n",
       "      <td>Tax</td>\n",
       "      <td>NaN</td>\n",
       "    </tr>\n",
       "    <tr>\n",
       "      <th>916</th>\n",
       "      <td>I am currently working at a Big 4 accounting firm</td>\n",
       "      <td>No</td>\n",
       "      <td>3.0</td>\n",
       "      <td>104000.0</td>\n",
       "      <td>4.5</td>\n",
       "      <td>Public Accounting</td>\n",
       "      <td>High</td>\n",
       "      <td>Male</td>\n",
       "      <td>Tax</td>\n",
       "      <td>NaN</td>\n",
       "    </tr>\n",
       "  </tbody>\n",
       "</table>\n",
       "</div>"
      ],
      "text/plain": [
       "                                           Exit Status Has CPA  \\\n",
       "423  I am currently working at a Big 4 accounting firm      No   \n",
       "657  I am currently working at a Big 4 accounting firm      No   \n",
       "776  I am currently working at a Big 4 accounting firm     Yes   \n",
       "916  I am currently working at a Big 4 accounting firm      No   \n",
       "\n",
       "     Years Experience  Current Salary + Bonus  Years Public Before Exit  \\\n",
       "423               3.0                 94000.0                       3.0   \n",
       "657               5.0                170000.0                       5.0   \n",
       "776               8.0                140000.0                       3.0   \n",
       "916               3.0                104000.0                       4.5   \n",
       "\n",
       "      Current Industry What COL is your region?  Gender Line of Service  \\\n",
       "423  Public Accounting                     High    Male             Tax   \n",
       "657  Public Accounting                   Medium    Male             Tax   \n",
       "776  Public Accounting                     High  Female             Tax   \n",
       "916  Public Accounting                     High    Male             Tax   \n",
       "\n",
       "     Average Hours Per Week  \n",
       "423                    45.0  \n",
       "657                    50.0  \n",
       "776                     NaN  \n",
       "916                     NaN  "
      ]
     },
     "execution_count": 82,
     "metadata": {},
     "output_type": "execute_result"
    }
   ],
   "source": [
    "us_accounting[(us_accounting['Years Public Before Exit'].isnull()==False) & (us_accounting['Exit Status'] == 'I am currently working at a Big 4 accounting firm')]"
   ]
  },
  {
   "cell_type": "code",
   "execution_count": 83,
   "metadata": {},
   "outputs": [],
   "source": [
    "us_accounting.loc[(us_accounting['Years Public Before Exit'].isnull()==False) & (us_accounting['Exit Status'] == 'I am currently working at a Big 4 accounting firm'), 'Years Public Before Exit'] = np.nan"
   ]
  },
  {
   "cell_type": "code",
   "execution_count": 84,
   "metadata": {},
   "outputs": [
    {
     "data": {
      "text/html": [
       "<div>\n",
       "<style scoped>\n",
       "    .dataframe tbody tr th:only-of-type {\n",
       "        vertical-align: middle;\n",
       "    }\n",
       "\n",
       "    .dataframe tbody tr th {\n",
       "        vertical-align: top;\n",
       "    }\n",
       "\n",
       "    .dataframe thead th {\n",
       "        text-align: right;\n",
       "    }\n",
       "</style>\n",
       "<table border=\"1\" class=\"dataframe\">\n",
       "  <thead>\n",
       "    <tr style=\"text-align: right;\">\n",
       "      <th></th>\n",
       "      <th>Exit Status</th>\n",
       "      <th>Has CPA</th>\n",
       "      <th>Years Experience</th>\n",
       "      <th>Current Salary + Bonus</th>\n",
       "      <th>Years Public Before Exit</th>\n",
       "      <th>Current Industry</th>\n",
       "      <th>What COL is your region?</th>\n",
       "      <th>Gender</th>\n",
       "      <th>Line of Service</th>\n",
       "      <th>Average Hours Per Week</th>\n",
       "    </tr>\n",
       "  </thead>\n",
       "  <tbody>\n",
       "  </tbody>\n",
       "</table>\n",
       "</div>"
      ],
      "text/plain": [
       "Empty DataFrame\n",
       "Columns: [Exit Status, Has CPA, Years Experience, Current Salary + Bonus, Years Public Before Exit, Current Industry, What COL is your region?, Gender, Line of Service, Average Hours Per Week]\n",
       "Index: []"
      ]
     },
     "execution_count": 84,
     "metadata": {},
     "output_type": "execute_result"
    }
   ],
   "source": [
    "us_accounting[(us_accounting['Years Public Before Exit'].isnull()==False) & (us_accounting['Exit Status'] == 'I am currently working at a Big 4 accounting firm')]"
   ]
  },
  {
   "cell_type": "code",
   "execution_count": 85,
   "metadata": {},
   "outputs": [
    {
     "data": {
      "text/plain": [
       "I have already exited from a Big 4 Accounting firm                112\n",
       "I have already exited from a mid-tier or local accounting firm    104\n",
       "Name: Exit Status, dtype: int64"
      ]
     },
     "execution_count": 85,
     "metadata": {},
     "output_type": "execute_result"
    }
   ],
   "source": [
    "us_accounting[(us_accounting['Years Public Before Exit'].isnull()==False)]['Exit Status'].value_counts()"
   ]
  },
  {
   "cell_type": "code",
   "execution_count": 86,
   "metadata": {},
   "outputs": [
    {
     "data": {
      "text/plain": [
       "True     980\n",
       "False    216\n",
       "Name: Years Public Before Exit, dtype: int64"
      ]
     },
     "execution_count": 86,
     "metadata": {},
     "output_type": "execute_result"
    }
   ],
   "source": [
    "us_accounting['Years Public Before Exit'].isnull().value_counts()"
   ]
  },
  {
   "cell_type": "markdown",
   "metadata": {},
   "source": [
    "Lastly, we have a problem with the following two entries.  These accountants have listed they have less years experience than years public before exit.  Since both of these accountants have already exited from a public accounting firm, they should have more years of experience than years working in a public firm.  I will change the years experience values to equal the years public before exit values, but don't have any more information to get any more accurate."
   ]
  },
  {
   "cell_type": "code",
   "execution_count": 87,
   "metadata": {},
   "outputs": [
    {
     "data": {
      "text/html": [
       "<div>\n",
       "<style scoped>\n",
       "    .dataframe tbody tr th:only-of-type {\n",
       "        vertical-align: middle;\n",
       "    }\n",
       "\n",
       "    .dataframe tbody tr th {\n",
       "        vertical-align: top;\n",
       "    }\n",
       "\n",
       "    .dataframe thead th {\n",
       "        text-align: right;\n",
       "    }\n",
       "</style>\n",
       "<table border=\"1\" class=\"dataframe\">\n",
       "  <thead>\n",
       "    <tr style=\"text-align: right;\">\n",
       "      <th></th>\n",
       "      <th>Exit Status</th>\n",
       "      <th>Has CPA</th>\n",
       "      <th>Years Experience</th>\n",
       "      <th>Current Salary + Bonus</th>\n",
       "      <th>Years Public Before Exit</th>\n",
       "      <th>Current Industry</th>\n",
       "      <th>What COL is your region?</th>\n",
       "      <th>Gender</th>\n",
       "      <th>Line of Service</th>\n",
       "      <th>Average Hours Per Week</th>\n",
       "    </tr>\n",
       "  </thead>\n",
       "  <tbody>\n",
       "    <tr>\n",
       "      <th>165</th>\n",
       "      <td>I have already exited from a mid-tier or local...</td>\n",
       "      <td>No</td>\n",
       "      <td>1.0</td>\n",
       "      <td>55000.0</td>\n",
       "      <td>3.0</td>\n",
       "      <td>Public Accounting</td>\n",
       "      <td>Low</td>\n",
       "      <td>Male</td>\n",
       "      <td>Tax</td>\n",
       "      <td>45.0</td>\n",
       "    </tr>\n",
       "    <tr>\n",
       "      <th>347</th>\n",
       "      <td>I have already exited from a mid-tier or local...</td>\n",
       "      <td>No</td>\n",
       "      <td>2.5</td>\n",
       "      <td>100000.0</td>\n",
       "      <td>3.0</td>\n",
       "      <td>Finance</td>\n",
       "      <td>Medium</td>\n",
       "      <td>Male</td>\n",
       "      <td>Audit</td>\n",
       "      <td>40.0</td>\n",
       "    </tr>\n",
       "    <tr>\n",
       "      <th>1141</th>\n",
       "      <td>I have already exited from a Big 4 Accounting ...</td>\n",
       "      <td>No</td>\n",
       "      <td>3.0</td>\n",
       "      <td>102000.0</td>\n",
       "      <td>5.0</td>\n",
       "      <td>Technology</td>\n",
       "      <td>Medium</td>\n",
       "      <td>Male</td>\n",
       "      <td>Advisory</td>\n",
       "      <td>50.0</td>\n",
       "    </tr>\n",
       "  </tbody>\n",
       "</table>\n",
       "</div>"
      ],
      "text/plain": [
       "                                            Exit Status Has CPA  \\\n",
       "165   I have already exited from a mid-tier or local...      No   \n",
       "347   I have already exited from a mid-tier or local...      No   \n",
       "1141  I have already exited from a Big 4 Accounting ...      No   \n",
       "\n",
       "      Years Experience  Current Salary + Bonus  Years Public Before Exit  \\\n",
       "165                1.0                 55000.0                       3.0   \n",
       "347                2.5                100000.0                       3.0   \n",
       "1141               3.0                102000.0                       5.0   \n",
       "\n",
       "       Current Industry What COL is your region? Gender Line of Service  \\\n",
       "165   Public Accounting                      Low   Male             Tax   \n",
       "347             Finance                   Medium   Male           Audit   \n",
       "1141         Technology                   Medium   Male        Advisory   \n",
       "\n",
       "      Average Hours Per Week  \n",
       "165                     45.0  \n",
       "347                     40.0  \n",
       "1141                    50.0  "
      ]
     },
     "execution_count": 87,
     "metadata": {},
     "output_type": "execute_result"
    }
   ],
   "source": [
    "us_accounting[us_accounting['Years Public Before Exit'] > us_accounting['Years Experience']]"
   ]
  },
  {
   "cell_type": "code",
   "execution_count": 88,
   "metadata": {},
   "outputs": [],
   "source": [
    "us_accounting.loc[us_accounting['Years Public Before Exit'] > us_accounting['Years Experience'], 'Years Experience'] = us_accounting.loc[us_accounting['Years Public Before Exit'] > us_accounting['Years Experience'], 'Years Public Before Exit']"
   ]
  },
  {
   "cell_type": "markdown",
   "metadata": {},
   "source": [
    "#### `'Years Public Before Exit'` cleaned!  All null values non-null values make sense"
   ]
  },
  {
   "cell_type": "markdown",
   "metadata": {},
   "source": [
    "### Cleaning `'Current Industry'` column"
   ]
  },
  {
   "cell_type": "markdown",
   "metadata": {},
   "source": [
    "There are 23 null values that need to be dealt with.  I will put them in the 'Other' category"
   ]
  },
  {
   "cell_type": "code",
   "execution_count": 89,
   "metadata": {},
   "outputs": [
    {
     "data": {
      "text/plain": [
       "False    1175\n",
       "True       21\n",
       "Name: Current Industry, dtype: int64"
      ]
     },
     "execution_count": 89,
     "metadata": {},
     "output_type": "execute_result"
    }
   ],
   "source": [
    "us_accounting['Current Industry'].isnull().value_counts()"
   ]
  },
  {
   "cell_type": "code",
   "execution_count": 90,
   "metadata": {},
   "outputs": [
    {
     "data": {
      "text/plain": [
       "array(['Public Accounting', 'Construction', 'Technology', nan, 'Finance',\n",
       "       'Other', 'Energy', 'Government', 'Manufacturing', 'Medical',\n",
       "       'Agriculture/Food processing', 'Transportation', 'Hospitality',\n",
       "       'Aerospace'], dtype=object)"
      ]
     },
     "execution_count": 90,
     "metadata": {},
     "output_type": "execute_result"
    }
   ],
   "source": [
    "us_accounting['Current Industry'].unique()"
   ]
  },
  {
   "cell_type": "code",
   "execution_count": 91,
   "metadata": {},
   "outputs": [
    {
     "data": {
      "text/plain": [
       "Public Accounting              701\n",
       "Other                          100\n",
       "Finance                         91\n",
       "Technology                      84\n",
       "Manufacturing                   51\n",
       "Government                      44\n",
       "Medical                         42\n",
       "Construction                    20\n",
       "Energy                          17\n",
       "Hospitality                     13\n",
       "Agriculture/Food processing      5\n",
       "Transportation                   5\n",
       "Aerospace                        2\n",
       "Name: Current Industry, dtype: int64"
      ]
     },
     "execution_count": 91,
     "metadata": {},
     "output_type": "execute_result"
    }
   ],
   "source": [
    "us_accounting['Current Industry'].value_counts()"
   ]
  },
  {
   "cell_type": "code",
   "execution_count": 92,
   "metadata": {},
   "outputs": [
    {
     "data": {
      "text/plain": [
       "False    1196\n",
       "Name: Current Industry, dtype: int64"
      ]
     },
     "execution_count": 92,
     "metadata": {},
     "output_type": "execute_result"
    }
   ],
   "source": [
    "us_accounting['Current Industry'].fillna('Other', inplace=True)\n",
    "us_accounting['Current Industry'].isnull().value_counts()"
   ]
  },
  {
   "cell_type": "markdown",
   "metadata": {},
   "source": [
    "### Handling some entries that don't make sense"
   ]
  },
  {
   "cell_type": "markdown",
   "metadata": {},
   "source": [
    "We have accountants that say they are currently working at a Big 4 accounting firm, yet they list their `Current Industry` as something other than Public Accounting.  It's likely that these people specialize in a certain industry, for instance a public accounting firm that has a team/department which solely audits private medical firms.  These people work for the Public Accounting industry and should be categorized as such, the private industry firms are just their clients."
   ]
  },
  {
   "cell_type": "code",
   "execution_count": 93,
   "metadata": {},
   "outputs": [
    {
     "data": {
      "text/plain": [
       "Public Accounting    289\n",
       "Finance               11\n",
       "Technology            11\n",
       "Other                  8\n",
       "Energy                 4\n",
       "Government             3\n",
       "Medical                2\n",
       "Manufacturing          1\n",
       "Name: Current Industry, dtype: int64"
      ]
     },
     "execution_count": 93,
     "metadata": {},
     "output_type": "execute_result"
    }
   ],
   "source": [
    "big4_df = us_accounting[us_accounting['Exit Status'] == 'I am currently working at a Big 4 accounting firm']\n",
    "big4_df['Current Industry'].value_counts()"
   ]
  },
  {
   "cell_type": "markdown",
   "metadata": {},
   "source": [
    "Because these accountants also have NaN for `Years Public Before Exit`, it makes sense for them to still be at a public accounting firm, so I think it's less likely that some kind of input error occurred when the accountant was filling out the survey, which could explain the discrepancy above.  For these reasons, I plan to take all of these accountants and set their `Current Industry` to Public Accounting"
   ]
  },
  {
   "cell_type": "code",
   "execution_count": 94,
   "metadata": {},
   "outputs": [
    {
     "name": "stdout",
     "output_type": "stream",
     "text": [
      "The number of accountants who say they are currently working at a Big 4 accounting firm: 329\n",
      "Of those 329 accountants, the number who have Years Public Before Exit listed as NaN: 329\n"
     ]
    }
   ],
   "source": [
    "big4_df_num_accountants = len(big4_df['Current Industry'])\n",
    "big4_df_num_accountants_null_yrs_exit = sum(big4_df['Years Public Before Exit'].isnull().value_counts())\n",
    "\n",
    "print('The number of accountants who say they are currently working at a Big 4 accounting firm: {}'.format(big4_df_num_accountants))\n",
    "print('Of those {} accountants, the number who have Years Public Before Exit listed as NaN: {}'.format(big4_df_num_accountants, big4_df_num_accountants_null_yrs_exit))\n",
    "\n",
    "us_accounting.loc[us_accounting['Exit Status'] == 'I am currently working at a Big 4 accounting firm', 'Current Industry'] = 'Public Accounting'"
   ]
  },
  {
   "cell_type": "markdown",
   "metadata": {},
   "source": [
    "Same situation as earlier, these accountants indicate they are still working at a mid-tier or local public accounting firm, but list their current industry as otherwise, and list their `Years Public Before Exit` as NaN.  I will also set the `Current Industry` for accountants to Public Accounting."
   ]
  },
  {
   "cell_type": "code",
   "execution_count": 95,
   "metadata": {},
   "outputs": [
    {
     "name": "stdout",
     "output_type": "stream",
     "text": [
      "The number of accountants who say they are currently working at a Mid-tier or Local Accounting firm: 403\n",
      "Of those 403 accountants, the number of accountants who have Years Public Before Exit listed as NaN: 403\n"
     ]
    }
   ],
   "source": [
    "mid_local_df= us_accounting[us_accounting['Exit Status'] == 'I am currently working at a mid-tier or local accounting firm']\n",
    "mid_local_num_accountants = sum(mid_local_df['Current Industry'].value_counts())\n",
    "mid_local_num_accountants_null_yrs_exit = sum(mid_local_df['Years Public Before Exit'].isnull().value_counts())\n",
    "\n",
    "print('The number of accountants who say they are currently working at a Mid-tier or Local Accounting firm: {}'.format(mid_local_num_accountants))\n",
    "print('Of those {} accountants, the number of accountants who have Years Public Before Exit listed as NaN: {}'.format(mid_local_num_accountants, mid_local_num_accountants_null_yrs_exit))\n",
    "\n",
    "us_accounting.loc[us_accounting['Exit Status'] == 'I am currently working at a mid-tier or local accounting firm', 'Current Industry'] = 'Public Accounting'"
   ]
  },
  {
   "cell_type": "code",
   "execution_count": 96,
   "metadata": {},
   "outputs": [
    {
     "data": {
      "text/plain": [
       "Public Accounting    732\n",
       "Name: Current Industry, dtype: int64"
      ]
     },
     "execution_count": 96,
     "metadata": {},
     "output_type": "execute_result"
    }
   ],
   "source": [
    "us_accounting[(us_accounting['Exit Status'] == 'I am currently working at a Big 4 accounting firm') | (us_accounting['Exit Status'] == 'I am currently working at a mid-tier or local accounting firm')]['Current Industry'].value_counts()"
   ]
  },
  {
   "cell_type": "markdown",
   "metadata": {},
   "source": [
    "These entries also don't make sense.  If Years Public Before exit >= 0, it implies you've exited from public accounting, yet Public Accounting is listed as the current industry...I am going to change their current industry to Other"
   ]
  },
  {
   "cell_type": "code",
   "execution_count": 97,
   "metadata": {},
   "outputs": [
    {
     "data": {
      "text/html": [
       "<div>\n",
       "<style scoped>\n",
       "    .dataframe tbody tr th:only-of-type {\n",
       "        vertical-align: middle;\n",
       "    }\n",
       "\n",
       "    .dataframe tbody tr th {\n",
       "        vertical-align: top;\n",
       "    }\n",
       "\n",
       "    .dataframe thead th {\n",
       "        text-align: right;\n",
       "    }\n",
       "</style>\n",
       "<table border=\"1\" class=\"dataframe\">\n",
       "  <thead>\n",
       "    <tr style=\"text-align: right;\">\n",
       "      <th></th>\n",
       "      <th>Exit Status</th>\n",
       "      <th>Has CPA</th>\n",
       "      <th>Years Experience</th>\n",
       "      <th>Current Salary + Bonus</th>\n",
       "      <th>Years Public Before Exit</th>\n",
       "      <th>Current Industry</th>\n",
       "      <th>What COL is your region?</th>\n",
       "      <th>Gender</th>\n",
       "      <th>Line of Service</th>\n",
       "      <th>Average Hours Per Week</th>\n",
       "    </tr>\n",
       "  </thead>\n",
       "  <tbody>\n",
       "    <tr>\n",
       "      <th>165</th>\n",
       "      <td>I have already exited from a mid-tier or local...</td>\n",
       "      <td>No</td>\n",
       "      <td>3.0</td>\n",
       "      <td>55000.0</td>\n",
       "      <td>3.0</td>\n",
       "      <td>Public Accounting</td>\n",
       "      <td>Low</td>\n",
       "      <td>Male</td>\n",
       "      <td>Tax</td>\n",
       "      <td>45.0</td>\n",
       "    </tr>\n",
       "    <tr>\n",
       "      <th>301</th>\n",
       "      <td>I have already exited from a Big 4 Accounting ...</td>\n",
       "      <td>Yes</td>\n",
       "      <td>2.0</td>\n",
       "      <td>93000.0</td>\n",
       "      <td>2.0</td>\n",
       "      <td>Public Accounting</td>\n",
       "      <td>Medium</td>\n",
       "      <td>Male</td>\n",
       "      <td>Audit</td>\n",
       "      <td>NaN</td>\n",
       "    </tr>\n",
       "    <tr>\n",
       "      <th>516</th>\n",
       "      <td>I have already exited from a Big 4 Accounting ...</td>\n",
       "      <td>Yes</td>\n",
       "      <td>3.0</td>\n",
       "      <td>90000.0</td>\n",
       "      <td>1.5</td>\n",
       "      <td>Public Accounting</td>\n",
       "      <td>Medium</td>\n",
       "      <td>Female</td>\n",
       "      <td>Audit</td>\n",
       "      <td>45.0</td>\n",
       "    </tr>\n",
       "    <tr>\n",
       "      <th>524</th>\n",
       "      <td>I have already exited from a Big 4 Accounting ...</td>\n",
       "      <td>Yes</td>\n",
       "      <td>4.0</td>\n",
       "      <td>110000.0</td>\n",
       "      <td>2.0</td>\n",
       "      <td>Public Accounting</td>\n",
       "      <td>High</td>\n",
       "      <td>Male</td>\n",
       "      <td>Advisory</td>\n",
       "      <td>NaN</td>\n",
       "    </tr>\n",
       "    <tr>\n",
       "      <th>631</th>\n",
       "      <td>I have already exited from a Big 4 Accounting ...</td>\n",
       "      <td>No</td>\n",
       "      <td>4.0</td>\n",
       "      <td>95000.0</td>\n",
       "      <td>3.0</td>\n",
       "      <td>Public Accounting</td>\n",
       "      <td>Medium</td>\n",
       "      <td>Female</td>\n",
       "      <td>Advisory</td>\n",
       "      <td>50.0</td>\n",
       "    </tr>\n",
       "    <tr>\n",
       "      <th>749</th>\n",
       "      <td>I have already exited from a Big 4 Accounting ...</td>\n",
       "      <td>No</td>\n",
       "      <td>6.0</td>\n",
       "      <td>108000.0</td>\n",
       "      <td>3.0</td>\n",
       "      <td>Public Accounting</td>\n",
       "      <td>High</td>\n",
       "      <td>Female</td>\n",
       "      <td>Advisory</td>\n",
       "      <td>35.0</td>\n",
       "    </tr>\n",
       "    <tr>\n",
       "      <th>786</th>\n",
       "      <td>I have already exited from a Big 4 Accounting ...</td>\n",
       "      <td>Yes</td>\n",
       "      <td>6.5</td>\n",
       "      <td>93000.0</td>\n",
       "      <td>3.0</td>\n",
       "      <td>Public Accounting</td>\n",
       "      <td>High</td>\n",
       "      <td>Female</td>\n",
       "      <td>Tax and Audit</td>\n",
       "      <td>NaN</td>\n",
       "    </tr>\n",
       "    <tr>\n",
       "      <th>844</th>\n",
       "      <td>I have already exited from a Big 4 Accounting ...</td>\n",
       "      <td>Yes</td>\n",
       "      <td>7.0</td>\n",
       "      <td>115000.0</td>\n",
       "      <td>5.0</td>\n",
       "      <td>Public Accounting</td>\n",
       "      <td>High</td>\n",
       "      <td>Male</td>\n",
       "      <td>Advisory</td>\n",
       "      <td>40.0</td>\n",
       "    </tr>\n",
       "    <tr>\n",
       "      <th>1032</th>\n",
       "      <td>I have already exited from a mid-tier or local...</td>\n",
       "      <td>Yes</td>\n",
       "      <td>3.0</td>\n",
       "      <td>72000.0</td>\n",
       "      <td>3.0</td>\n",
       "      <td>Public Accounting</td>\n",
       "      <td>Low</td>\n",
       "      <td>Male</td>\n",
       "      <td>Advisory</td>\n",
       "      <td>45.0</td>\n",
       "    </tr>\n",
       "    <tr>\n",
       "      <th>1115</th>\n",
       "      <td>I have already exited from a mid-tier or local...</td>\n",
       "      <td>Yes</td>\n",
       "      <td>11.0</td>\n",
       "      <td>196000.0</td>\n",
       "      <td>8.0</td>\n",
       "      <td>Public Accounting</td>\n",
       "      <td>Medium</td>\n",
       "      <td>Male</td>\n",
       "      <td>Tax</td>\n",
       "      <td>35.0</td>\n",
       "    </tr>\n",
       "  </tbody>\n",
       "</table>\n",
       "</div>"
      ],
      "text/plain": [
       "                                            Exit Status Has CPA  \\\n",
       "165   I have already exited from a mid-tier or local...      No   \n",
       "301   I have already exited from a Big 4 Accounting ...     Yes   \n",
       "516   I have already exited from a Big 4 Accounting ...     Yes   \n",
       "524   I have already exited from a Big 4 Accounting ...     Yes   \n",
       "631   I have already exited from a Big 4 Accounting ...      No   \n",
       "749   I have already exited from a Big 4 Accounting ...      No   \n",
       "786   I have already exited from a Big 4 Accounting ...     Yes   \n",
       "844   I have already exited from a Big 4 Accounting ...     Yes   \n",
       "1032  I have already exited from a mid-tier or local...     Yes   \n",
       "1115  I have already exited from a mid-tier or local...     Yes   \n",
       "\n",
       "      Years Experience  Current Salary + Bonus  Years Public Before Exit  \\\n",
       "165                3.0                 55000.0                       3.0   \n",
       "301                2.0                 93000.0                       2.0   \n",
       "516                3.0                 90000.0                       1.5   \n",
       "524                4.0                110000.0                       2.0   \n",
       "631                4.0                 95000.0                       3.0   \n",
       "749                6.0                108000.0                       3.0   \n",
       "786                6.5                 93000.0                       3.0   \n",
       "844                7.0                115000.0                       5.0   \n",
       "1032               3.0                 72000.0                       3.0   \n",
       "1115              11.0                196000.0                       8.0   \n",
       "\n",
       "       Current Industry What COL is your region?  Gender Line of Service  \\\n",
       "165   Public Accounting                      Low    Male             Tax   \n",
       "301   Public Accounting                   Medium    Male           Audit   \n",
       "516   Public Accounting                   Medium  Female           Audit   \n",
       "524   Public Accounting                     High    Male        Advisory   \n",
       "631   Public Accounting                   Medium  Female        Advisory   \n",
       "749   Public Accounting                     High  Female        Advisory   \n",
       "786   Public Accounting                     High  Female   Tax and Audit   \n",
       "844   Public Accounting                     High    Male        Advisory   \n",
       "1032  Public Accounting                      Low    Male        Advisory   \n",
       "1115  Public Accounting                   Medium    Male             Tax   \n",
       "\n",
       "      Average Hours Per Week  \n",
       "165                     45.0  \n",
       "301                      NaN  \n",
       "516                     45.0  \n",
       "524                      NaN  \n",
       "631                     50.0  \n",
       "749                     35.0  \n",
       "786                      NaN  \n",
       "844                     40.0  \n",
       "1032                    45.0  \n",
       "1115                    35.0  "
      ]
     },
     "execution_count": 97,
     "metadata": {},
     "output_type": "execute_result"
    }
   ],
   "source": [
    "weird_entries_mask = (us_accounting['Years Public Before Exit']>=0) & (us_accounting['Current Industry'] == 'Public Accounting')\n",
    "us_accounting[weird_entries_mask]"
   ]
  },
  {
   "cell_type": "code",
   "execution_count": 98,
   "metadata": {},
   "outputs": [
    {
     "data": {
      "text/html": [
       "<div>\n",
       "<style scoped>\n",
       "    .dataframe tbody tr th:only-of-type {\n",
       "        vertical-align: middle;\n",
       "    }\n",
       "\n",
       "    .dataframe tbody tr th {\n",
       "        vertical-align: top;\n",
       "    }\n",
       "\n",
       "    .dataframe thead th {\n",
       "        text-align: right;\n",
       "    }\n",
       "</style>\n",
       "<table border=\"1\" class=\"dataframe\">\n",
       "  <thead>\n",
       "    <tr style=\"text-align: right;\">\n",
       "      <th></th>\n",
       "      <th>Exit Status</th>\n",
       "      <th>Has CPA</th>\n",
       "      <th>Years Experience</th>\n",
       "      <th>Current Salary + Bonus</th>\n",
       "      <th>Years Public Before Exit</th>\n",
       "      <th>Current Industry</th>\n",
       "      <th>What COL is your region?</th>\n",
       "      <th>Gender</th>\n",
       "      <th>Line of Service</th>\n",
       "      <th>Average Hours Per Week</th>\n",
       "    </tr>\n",
       "  </thead>\n",
       "  <tbody>\n",
       "    <tr>\n",
       "      <th>165</th>\n",
       "      <td>I have already exited from a mid-tier or local...</td>\n",
       "      <td>No</td>\n",
       "      <td>3.0</td>\n",
       "      <td>55000.0</td>\n",
       "      <td>3.0</td>\n",
       "      <td>Other</td>\n",
       "      <td>Low</td>\n",
       "      <td>Male</td>\n",
       "      <td>Tax</td>\n",
       "      <td>45.0</td>\n",
       "    </tr>\n",
       "    <tr>\n",
       "      <th>301</th>\n",
       "      <td>I have already exited from a Big 4 Accounting ...</td>\n",
       "      <td>Yes</td>\n",
       "      <td>2.0</td>\n",
       "      <td>93000.0</td>\n",
       "      <td>2.0</td>\n",
       "      <td>Other</td>\n",
       "      <td>Medium</td>\n",
       "      <td>Male</td>\n",
       "      <td>Audit</td>\n",
       "      <td>NaN</td>\n",
       "    </tr>\n",
       "    <tr>\n",
       "      <th>516</th>\n",
       "      <td>I have already exited from a Big 4 Accounting ...</td>\n",
       "      <td>Yes</td>\n",
       "      <td>3.0</td>\n",
       "      <td>90000.0</td>\n",
       "      <td>1.5</td>\n",
       "      <td>Other</td>\n",
       "      <td>Medium</td>\n",
       "      <td>Female</td>\n",
       "      <td>Audit</td>\n",
       "      <td>45.0</td>\n",
       "    </tr>\n",
       "    <tr>\n",
       "      <th>524</th>\n",
       "      <td>I have already exited from a Big 4 Accounting ...</td>\n",
       "      <td>Yes</td>\n",
       "      <td>4.0</td>\n",
       "      <td>110000.0</td>\n",
       "      <td>2.0</td>\n",
       "      <td>Other</td>\n",
       "      <td>High</td>\n",
       "      <td>Male</td>\n",
       "      <td>Advisory</td>\n",
       "      <td>NaN</td>\n",
       "    </tr>\n",
       "    <tr>\n",
       "      <th>631</th>\n",
       "      <td>I have already exited from a Big 4 Accounting ...</td>\n",
       "      <td>No</td>\n",
       "      <td>4.0</td>\n",
       "      <td>95000.0</td>\n",
       "      <td>3.0</td>\n",
       "      <td>Other</td>\n",
       "      <td>Medium</td>\n",
       "      <td>Female</td>\n",
       "      <td>Advisory</td>\n",
       "      <td>50.0</td>\n",
       "    </tr>\n",
       "    <tr>\n",
       "      <th>749</th>\n",
       "      <td>I have already exited from a Big 4 Accounting ...</td>\n",
       "      <td>No</td>\n",
       "      <td>6.0</td>\n",
       "      <td>108000.0</td>\n",
       "      <td>3.0</td>\n",
       "      <td>Other</td>\n",
       "      <td>High</td>\n",
       "      <td>Female</td>\n",
       "      <td>Advisory</td>\n",
       "      <td>35.0</td>\n",
       "    </tr>\n",
       "    <tr>\n",
       "      <th>786</th>\n",
       "      <td>I have already exited from a Big 4 Accounting ...</td>\n",
       "      <td>Yes</td>\n",
       "      <td>6.5</td>\n",
       "      <td>93000.0</td>\n",
       "      <td>3.0</td>\n",
       "      <td>Other</td>\n",
       "      <td>High</td>\n",
       "      <td>Female</td>\n",
       "      <td>Tax and Audit</td>\n",
       "      <td>NaN</td>\n",
       "    </tr>\n",
       "    <tr>\n",
       "      <th>844</th>\n",
       "      <td>I have already exited from a Big 4 Accounting ...</td>\n",
       "      <td>Yes</td>\n",
       "      <td>7.0</td>\n",
       "      <td>115000.0</td>\n",
       "      <td>5.0</td>\n",
       "      <td>Other</td>\n",
       "      <td>High</td>\n",
       "      <td>Male</td>\n",
       "      <td>Advisory</td>\n",
       "      <td>40.0</td>\n",
       "    </tr>\n",
       "    <tr>\n",
       "      <th>1032</th>\n",
       "      <td>I have already exited from a mid-tier or local...</td>\n",
       "      <td>Yes</td>\n",
       "      <td>3.0</td>\n",
       "      <td>72000.0</td>\n",
       "      <td>3.0</td>\n",
       "      <td>Other</td>\n",
       "      <td>Low</td>\n",
       "      <td>Male</td>\n",
       "      <td>Advisory</td>\n",
       "      <td>45.0</td>\n",
       "    </tr>\n",
       "    <tr>\n",
       "      <th>1115</th>\n",
       "      <td>I have already exited from a mid-tier or local...</td>\n",
       "      <td>Yes</td>\n",
       "      <td>11.0</td>\n",
       "      <td>196000.0</td>\n",
       "      <td>8.0</td>\n",
       "      <td>Other</td>\n",
       "      <td>Medium</td>\n",
       "      <td>Male</td>\n",
       "      <td>Tax</td>\n",
       "      <td>35.0</td>\n",
       "    </tr>\n",
       "  </tbody>\n",
       "</table>\n",
       "</div>"
      ],
      "text/plain": [
       "                                            Exit Status Has CPA  \\\n",
       "165   I have already exited from a mid-tier or local...      No   \n",
       "301   I have already exited from a Big 4 Accounting ...     Yes   \n",
       "516   I have already exited from a Big 4 Accounting ...     Yes   \n",
       "524   I have already exited from a Big 4 Accounting ...     Yes   \n",
       "631   I have already exited from a Big 4 Accounting ...      No   \n",
       "749   I have already exited from a Big 4 Accounting ...      No   \n",
       "786   I have already exited from a Big 4 Accounting ...     Yes   \n",
       "844   I have already exited from a Big 4 Accounting ...     Yes   \n",
       "1032  I have already exited from a mid-tier or local...     Yes   \n",
       "1115  I have already exited from a mid-tier or local...     Yes   \n",
       "\n",
       "      Years Experience  Current Salary + Bonus  Years Public Before Exit  \\\n",
       "165                3.0                 55000.0                       3.0   \n",
       "301                2.0                 93000.0                       2.0   \n",
       "516                3.0                 90000.0                       1.5   \n",
       "524                4.0                110000.0                       2.0   \n",
       "631                4.0                 95000.0                       3.0   \n",
       "749                6.0                108000.0                       3.0   \n",
       "786                6.5                 93000.0                       3.0   \n",
       "844                7.0                115000.0                       5.0   \n",
       "1032               3.0                 72000.0                       3.0   \n",
       "1115              11.0                196000.0                       8.0   \n",
       "\n",
       "     Current Industry What COL is your region?  Gender Line of Service  \\\n",
       "165             Other                      Low    Male             Tax   \n",
       "301             Other                   Medium    Male           Audit   \n",
       "516             Other                   Medium  Female           Audit   \n",
       "524             Other                     High    Male        Advisory   \n",
       "631             Other                   Medium  Female        Advisory   \n",
       "749             Other                     High  Female        Advisory   \n",
       "786             Other                     High  Female   Tax and Audit   \n",
       "844             Other                     High    Male        Advisory   \n",
       "1032            Other                      Low    Male        Advisory   \n",
       "1115            Other                   Medium    Male             Tax   \n",
       "\n",
       "      Average Hours Per Week  \n",
       "165                     45.0  \n",
       "301                      NaN  \n",
       "516                     45.0  \n",
       "524                      NaN  \n",
       "631                     50.0  \n",
       "749                     35.0  \n",
       "786                      NaN  \n",
       "844                     40.0  \n",
       "1032                    45.0  \n",
       "1115                    35.0  "
      ]
     },
     "execution_count": 98,
     "metadata": {},
     "output_type": "execute_result"
    }
   ],
   "source": [
    "us_accounting.loc[weird_entries_mask, 'Current Industry'] = 'Other'\n",
    "us_accounting[weird_entries_mask]"
   ]
  },
  {
   "cell_type": "markdown",
   "metadata": {},
   "source": [
    "Everything looks good now!\n",
    "\n",
    "#### `'Current Industry'` column cleaned!"
   ]
  },
  {
   "cell_type": "markdown",
   "metadata": {},
   "source": [
    "### Cleaning `'What COL is your region?'` column"
   ]
  },
  {
   "cell_type": "code",
   "execution_count": 99,
   "metadata": {},
   "outputs": [
    {
     "data": {
      "text/plain": [
       "False    1158\n",
       "True       38\n",
       "Name: What COL is your region?, dtype: int64"
      ]
     },
     "execution_count": 99,
     "metadata": {},
     "output_type": "execute_result"
    }
   ],
   "source": [
    "us_COL = us_accounting['What COL is your region?']\n",
    "us_COL.isnull().value_counts()"
   ]
  },
  {
   "cell_type": "code",
   "execution_count": 100,
   "metadata": {},
   "outputs": [
    {
     "data": {
      "text/plain": [
       "Medium    494\n",
       "High      490\n",
       "Low       174\n",
       "Name: What COL is your region?, dtype: int64"
      ]
     },
     "execution_count": 100,
     "metadata": {},
     "output_type": "execute_result"
    }
   ],
   "source": [
    "us_COL.value_counts()"
   ]
  },
  {
   "cell_type": "markdown",
   "metadata": {},
   "source": [
    "Because Medium and High COL occur with near identical frequency, it's reasonable to impute either here for any NaN values, but I will go with the one that has the highest frequency anyways."
   ]
  },
  {
   "cell_type": "code",
   "execution_count": 101,
   "metadata": {},
   "outputs": [],
   "source": [
    "mode_COL = us_COL.mode()[0]\n",
    "us_accounting['What COL is your region?'].fillna(mode_COL, inplace=True)"
   ]
  },
  {
   "cell_type": "code",
   "execution_count": 102,
   "metadata": {},
   "outputs": [
    {
     "data": {
      "text/plain": [
       "False    1196\n",
       "Name: What COL is your region?, dtype: int64"
      ]
     },
     "execution_count": 102,
     "metadata": {},
     "output_type": "execute_result"
    }
   ],
   "source": [
    "us_accounting['What COL is your region?'].isnull().value_counts()"
   ]
  },
  {
   "cell_type": "markdown",
   "metadata": {},
   "source": [
    "#### `'What COL is your region?'` column cleaned!"
   ]
  },
  {
   "cell_type": "markdown",
   "metadata": {},
   "source": [
    "## Cleaning `'Average Hours Per Week'` column"
   ]
  },
  {
   "cell_type": "markdown",
   "metadata": {},
   "source": [
    "Again there are a lot of missing values in this column, not sure how to handle this, mean and median are close.  Because this is a distribution of sample averages, I may be able to use normality to fill in missing values somehow, or perhaps use regression to impute here the values instead?"
   ]
  },
  {
   "cell_type": "code",
   "execution_count": 103,
   "metadata": {},
   "outputs": [
    {
     "data": {
      "text/plain": [
       "False    648\n",
       "True     548\n",
       "Name: Average Hours Per Week, dtype: int64"
      ]
     },
     "execution_count": 103,
     "metadata": {},
     "output_type": "execute_result"
    }
   ],
   "source": [
    "us_accounting['Average Hours Per Week'].isnull().value_counts()"
   ]
  },
  {
   "cell_type": "code",
   "execution_count": 104,
   "metadata": {},
   "outputs": [
    {
     "data": {
      "text/plain": [
       "(45.0, 45.314043209876544)"
      ]
     },
     "execution_count": 104,
     "metadata": {},
     "output_type": "execute_result"
    }
   ],
   "source": [
    "avg_hours_per_week = us_accounting['Average Hours Per Week']\n",
    "avg_hours_per_week.median(), avg_hours_per_week.mean()"
   ]
  },
  {
   "cell_type": "code",
   "execution_count": 105,
   "metadata": {},
   "outputs": [
    {
     "name": "stdout",
     "output_type": "stream",
     "text": [
      "Median US Accountant Average Hours Per Week:  45.0\n",
      "Mean US Accountant Average Hours Per week:  45.314043209876544\n"
     ]
    },
    {
     "data": {
      "image/png": "[encoded data removed]",
      "text/plain": [
       "<Figure size 432x288 with 1 Axes>"
      ]
     },
     "metadata": {
      "needs_background": "light"
     },
     "output_type": "display_data"
    }
   ],
   "source": [
    "avg_hours_per_week = us_accounting['Average Hours Per Week']\n",
    "median_avg_hours_per_week = avg_hours_per_week.median()\n",
    "mean_avg_hours_per_week = avg_hours_per_week.mean()\n",
    "print('Median US Accountant Average Hours Per Week: ', median_avg_hours_per_week)\n",
    "print('Mean US Accountant Average Hours Per week: ', mean_avg_hours_per_week)\n",
    "avg_hours_per_week.hist(bins = np.arange(0, 81, 5))\n",
    "plt.axvline(median_avg_hours_per_week, label='median', color='red')\n",
    "plt.axvline(mean_avg_hours_per_week, label='mean', color='black', linestyle='--')\n",
    "plt.xlabel('Average Hours Per Week')\n",
    "plt.ylabel('Count')\n",
    "plt.legend();"
   ]
  },
  {
   "cell_type": "markdown",
   "metadata": {},
   "source": [
    "Working an average of 0 hours per week on average must be a typo of sorts.  Since the distribution is roughly symmetric I will impute the mean for these values"
   ]
  },
  {
   "cell_type": "code",
   "execution_count": 106,
   "metadata": {},
   "outputs": [
    {
     "data": {
      "text/html": [
       "<div>\n",
       "<style scoped>\n",
       "    .dataframe tbody tr th:only-of-type {\n",
       "        vertical-align: middle;\n",
       "    }\n",
       "\n",
       "    .dataframe tbody tr th {\n",
       "        vertical-align: top;\n",
       "    }\n",
       "\n",
       "    .dataframe thead th {\n",
       "        text-align: right;\n",
       "    }\n",
       "</style>\n",
       "<table border=\"1\" class=\"dataframe\">\n",
       "  <thead>\n",
       "    <tr style=\"text-align: right;\">\n",
       "      <th></th>\n",
       "      <th>Exit Status</th>\n",
       "      <th>Has CPA</th>\n",
       "      <th>Years Experience</th>\n",
       "      <th>Current Salary + Bonus</th>\n",
       "      <th>Years Public Before Exit</th>\n",
       "      <th>Current Industry</th>\n",
       "      <th>What COL is your region?</th>\n",
       "      <th>Gender</th>\n",
       "      <th>Line of Service</th>\n",
       "      <th>Average Hours Per Week</th>\n",
       "    </tr>\n",
       "  </thead>\n",
       "  <tbody>\n",
       "    <tr>\n",
       "      <th>960</th>\n",
       "      <td>I am still in school</td>\n",
       "      <td>No</td>\n",
       "      <td>3.0</td>\n",
       "      <td>72000.0</td>\n",
       "      <td>NaN</td>\n",
       "      <td>Other</td>\n",
       "      <td>Medium</td>\n",
       "      <td>Male</td>\n",
       "      <td>Other</td>\n",
       "      <td>0.0</td>\n",
       "    </tr>\n",
       "    <tr>\n",
       "      <th>1098</th>\n",
       "      <td>I am still in school</td>\n",
       "      <td>No</td>\n",
       "      <td>1.0</td>\n",
       "      <td>72000.0</td>\n",
       "      <td>NaN</td>\n",
       "      <td>Public Accounting</td>\n",
       "      <td>Medium</td>\n",
       "      <td>Male</td>\n",
       "      <td>Tax</td>\n",
       "      <td>0.0</td>\n",
       "    </tr>\n",
       "  </tbody>\n",
       "</table>\n",
       "</div>"
      ],
      "text/plain": [
       "               Exit Status Has CPA  Years Experience  Current Salary + Bonus  \\\n",
       "960   I am still in school      No               3.0                 72000.0   \n",
       "1098  I am still in school      No               1.0                 72000.0   \n",
       "\n",
       "      Years Public Before Exit   Current Industry What COL is your region?  \\\n",
       "960                        NaN              Other                   Medium   \n",
       "1098                       NaN  Public Accounting                   Medium   \n",
       "\n",
       "     Gender Line of Service  Average Hours Per Week  \n",
       "960    Male           Other                     0.0  \n",
       "1098   Male             Tax                     0.0  "
      ]
     },
     "execution_count": 106,
     "metadata": {},
     "output_type": "execute_result"
    }
   ],
   "source": [
    "us_accounting[us_accounting['Average Hours Per Week'] < 10]"
   ]
  },
  {
   "cell_type": "code",
   "execution_count": 107,
   "metadata": {},
   "outputs": [
    {
     "data": {
      "text/html": [
       "<div>\n",
       "<style scoped>\n",
       "    .dataframe tbody tr th:only-of-type {\n",
       "        vertical-align: middle;\n",
       "    }\n",
       "\n",
       "    .dataframe tbody tr th {\n",
       "        vertical-align: top;\n",
       "    }\n",
       "\n",
       "    .dataframe thead th {\n",
       "        text-align: right;\n",
       "    }\n",
       "</style>\n",
       "<table border=\"1\" class=\"dataframe\">\n",
       "  <thead>\n",
       "    <tr style=\"text-align: right;\">\n",
       "      <th></th>\n",
       "      <th>Exit Status</th>\n",
       "      <th>Has CPA</th>\n",
       "      <th>Years Experience</th>\n",
       "      <th>Current Salary + Bonus</th>\n",
       "      <th>Years Public Before Exit</th>\n",
       "      <th>Current Industry</th>\n",
       "      <th>What COL is your region?</th>\n",
       "      <th>Gender</th>\n",
       "      <th>Line of Service</th>\n",
       "      <th>Average Hours Per Week</th>\n",
       "    </tr>\n",
       "  </thead>\n",
       "  <tbody>\n",
       "  </tbody>\n",
       "</table>\n",
       "</div>"
      ],
      "text/plain": [
       "Empty DataFrame\n",
       "Columns: [Exit Status, Has CPA, Years Experience, Current Salary + Bonus, Years Public Before Exit, Current Industry, What COL is your region?, Gender, Line of Service, Average Hours Per Week]\n",
       "Index: []"
      ]
     },
     "execution_count": 107,
     "metadata": {},
     "output_type": "execute_result"
    }
   ],
   "source": [
    "us_accounting.loc[us_accounting['Average Hours Per Week'] < 10, 'Average Hours Per Week'] = mean_avg_hours_per_week\n",
    "us_accounting[us_accounting['Average Hours Per Week'] < 10]"
   ]
  },
  {
   "cell_type": "markdown",
   "metadata": {},
   "source": [
    "#### `Average Hours Per Week` column cleaned!"
   ]
  },
  {
   "cell_type": "markdown",
   "metadata": {},
   "source": [
    "## Encoding Categorical variables"
   ]
  },
  {
   "cell_type": "code",
   "execution_count": 108,
   "metadata": {},
   "outputs": [
    {
     "data": {
      "text/html": [
       "<div>\n",
       "<style scoped>\n",
       "    .dataframe tbody tr th:only-of-type {\n",
       "        vertical-align: middle;\n",
       "    }\n",
       "\n",
       "    .dataframe tbody tr th {\n",
       "        vertical-align: top;\n",
       "    }\n",
       "\n",
       "    .dataframe thead th {\n",
       "        text-align: right;\n",
       "    }\n",
       "</style>\n",
       "<table border=\"1\" class=\"dataframe\">\n",
       "  <thead>\n",
       "    <tr style=\"text-align: right;\">\n",
       "      <th></th>\n",
       "      <th>Years Experience</th>\n",
       "      <th>Current Salary + Bonus</th>\n",
       "      <th>Years Public Before Exit</th>\n",
       "      <th>Average Hours Per Week</th>\n",
       "      <th>Exit Status_I am currently working at a Big 4 accounting firm</th>\n",
       "      <th>Exit Status_I am currently working at a mid-tier or local accounting firm</th>\n",
       "      <th>Exit Status_I am still in school</th>\n",
       "      <th>Exit Status_I have already exited from a Big 4 Accounting firm</th>\n",
       "      <th>Exit Status_I have already exited from a mid-tier or local accounting firm</th>\n",
       "      <th>Exit Status_I have never worked at a public accounting firm</th>\n",
       "      <th>...</th>\n",
       "      <th>Gender_Undisclosed</th>\n",
       "      <th>Line of Service_Advisory</th>\n",
       "      <th>Line of Service_Audit</th>\n",
       "      <th>Line of Service_Corporate</th>\n",
       "      <th>Line of Service_Finance</th>\n",
       "      <th>Line of Service_Forensic</th>\n",
       "      <th>Line of Service_Intern</th>\n",
       "      <th>Line of Service_Other</th>\n",
       "      <th>Line of Service_Tax</th>\n",
       "      <th>Line of Service_Tax and Audit</th>\n",
       "    </tr>\n",
       "  </thead>\n",
       "  <tbody>\n",
       "    <tr>\n",
       "      <th>1</th>\n",
       "      <td>3.0</td>\n",
       "      <td>100000.0</td>\n",
       "      <td>NaN</td>\n",
       "      <td>NaN</td>\n",
       "      <td>1</td>\n",
       "      <td>0</td>\n",
       "      <td>0</td>\n",
       "      <td>0</td>\n",
       "      <td>0</td>\n",
       "      <td>0</td>\n",
       "      <td>...</td>\n",
       "      <td>0</td>\n",
       "      <td>0</td>\n",
       "      <td>0</td>\n",
       "      <td>0</td>\n",
       "      <td>0</td>\n",
       "      <td>0</td>\n",
       "      <td>0</td>\n",
       "      <td>0</td>\n",
       "      <td>1</td>\n",
       "      <td>0</td>\n",
       "    </tr>\n",
       "    <tr>\n",
       "      <th>2</th>\n",
       "      <td>3.0</td>\n",
       "      <td>63000.0</td>\n",
       "      <td>NaN</td>\n",
       "      <td>50.0</td>\n",
       "      <td>1</td>\n",
       "      <td>0</td>\n",
       "      <td>0</td>\n",
       "      <td>0</td>\n",
       "      <td>0</td>\n",
       "      <td>0</td>\n",
       "      <td>...</td>\n",
       "      <td>0</td>\n",
       "      <td>0</td>\n",
       "      <td>1</td>\n",
       "      <td>0</td>\n",
       "      <td>0</td>\n",
       "      <td>0</td>\n",
       "      <td>0</td>\n",
       "      <td>0</td>\n",
       "      <td>0</td>\n",
       "      <td>0</td>\n",
       "    </tr>\n",
       "    <tr>\n",
       "      <th>3</th>\n",
       "      <td>3.0</td>\n",
       "      <td>61000.0</td>\n",
       "      <td>NaN</td>\n",
       "      <td>50.0</td>\n",
       "      <td>0</td>\n",
       "      <td>1</td>\n",
       "      <td>0</td>\n",
       "      <td>0</td>\n",
       "      <td>0</td>\n",
       "      <td>0</td>\n",
       "      <td>...</td>\n",
       "      <td>0</td>\n",
       "      <td>0</td>\n",
       "      <td>0</td>\n",
       "      <td>0</td>\n",
       "      <td>0</td>\n",
       "      <td>0</td>\n",
       "      <td>0</td>\n",
       "      <td>0</td>\n",
       "      <td>1</td>\n",
       "      <td>0</td>\n",
       "    </tr>\n",
       "    <tr>\n",
       "      <th>4</th>\n",
       "      <td>3.0</td>\n",
       "      <td>67000.0</td>\n",
       "      <td>NaN</td>\n",
       "      <td>40.0</td>\n",
       "      <td>0</td>\n",
       "      <td>1</td>\n",
       "      <td>0</td>\n",
       "      <td>0</td>\n",
       "      <td>0</td>\n",
       "      <td>0</td>\n",
       "      <td>...</td>\n",
       "      <td>0</td>\n",
       "      <td>0</td>\n",
       "      <td>0</td>\n",
       "      <td>0</td>\n",
       "      <td>0</td>\n",
       "      <td>0</td>\n",
       "      <td>0</td>\n",
       "      <td>1</td>\n",
       "      <td>0</td>\n",
       "      <td>0</td>\n",
       "    </tr>\n",
       "    <tr>\n",
       "      <th>5</th>\n",
       "      <td>4.5</td>\n",
       "      <td>72000.0</td>\n",
       "      <td>NaN</td>\n",
       "      <td>40.0</td>\n",
       "      <td>0</td>\n",
       "      <td>0</td>\n",
       "      <td>0</td>\n",
       "      <td>0</td>\n",
       "      <td>0</td>\n",
       "      <td>1</td>\n",
       "      <td>...</td>\n",
       "      <td>0</td>\n",
       "      <td>0</td>\n",
       "      <td>0</td>\n",
       "      <td>0</td>\n",
       "      <td>0</td>\n",
       "      <td>0</td>\n",
       "      <td>0</td>\n",
       "      <td>1</td>\n",
       "      <td>0</td>\n",
       "      <td>0</td>\n",
       "    </tr>\n",
       "  </tbody>\n",
       "</table>\n",
       "<p>5 rows × 41 columns</p>\n",
       "</div>"
      ],
      "text/plain": [
       "   Years Experience  Current Salary + Bonus  Years Public Before Exit  \\\n",
       "1               3.0                100000.0                       NaN   \n",
       "2               3.0                 63000.0                       NaN   \n",
       "3               3.0                 61000.0                       NaN   \n",
       "4               3.0                 67000.0                       NaN   \n",
       "5               4.5                 72000.0                       NaN   \n",
       "\n",
       "   Average Hours Per Week  \\\n",
       "1                     NaN   \n",
       "2                    50.0   \n",
       "3                    50.0   \n",
       "4                    40.0   \n",
       "5                    40.0   \n",
       "\n",
       "   Exit Status_I am currently working at a Big 4 accounting firm  \\\n",
       "1                                                  1               \n",
       "2                                                  1               \n",
       "3                                                  0               \n",
       "4                                                  0               \n",
       "5                                                  0               \n",
       "\n",
       "   Exit Status_I am currently working at a mid-tier or local accounting firm  \\\n",
       "1                                                  0                           \n",
       "2                                                  0                           \n",
       "3                                                  1                           \n",
       "4                                                  1                           \n",
       "5                                                  0                           \n",
       "\n",
       "   Exit Status_I am still in school  \\\n",
       "1                                 0   \n",
       "2                                 0   \n",
       "3                                 0   \n",
       "4                                 0   \n",
       "5                                 0   \n",
       "\n",
       "   Exit Status_I have already exited from a Big 4 Accounting firm  \\\n",
       "1                                                  0                \n",
       "2                                                  0                \n",
       "3                                                  0                \n",
       "4                                                  0                \n",
       "5                                                  0                \n",
       "\n",
       "   Exit Status_I have already exited from a mid-tier or local accounting firm  \\\n",
       "1                                                  0                            \n",
       "2                                                  0                            \n",
       "3                                                  0                            \n",
       "4                                                  0                            \n",
       "5                                                  0                            \n",
       "\n",
       "   Exit Status_I have never worked at a public accounting firm  ...  \\\n",
       "1                                                  0            ...   \n",
       "2                                                  0            ...   \n",
       "3                                                  0            ...   \n",
       "4                                                  0            ...   \n",
       "5                                                  1            ...   \n",
       "\n",
       "   Gender_Undisclosed  Line of Service_Advisory  Line of Service_Audit  \\\n",
       "1                   0                         0                      0   \n",
       "2                   0                         0                      1   \n",
       "3                   0                         0                      0   \n",
       "4                   0                         0                      0   \n",
       "5                   0                         0                      0   \n",
       "\n",
       "   Line of Service_Corporate  Line of Service_Finance  \\\n",
       "1                          0                        0   \n",
       "2                          0                        0   \n",
       "3                          0                        0   \n",
       "4                          0                        0   \n",
       "5                          0                        0   \n",
       "\n",
       "   Line of Service_Forensic  Line of Service_Intern  Line of Service_Other  \\\n",
       "1                         0                       0                      0   \n",
       "2                         0                       0                      0   \n",
       "3                         0                       0                      0   \n",
       "4                         0                       0                      1   \n",
       "5                         0                       0                      1   \n",
       "\n",
       "   Line of Service_Tax  Line of Service_Tax and Audit  \n",
       "1                    1                              0  \n",
       "2                    0                              0  \n",
       "3                    1                              0  \n",
       "4                    0                              0  \n",
       "5                    0                              0  \n",
       "\n",
       "[5 rows x 41 columns]"
      ]
     },
     "execution_count": 108,
     "metadata": {},
     "output_type": "execute_result"
    }
   ],
   "source": [
    "us_dummies = pd.get_dummies(us_accounting, columns=['Exit Status', 'Has CPA', 'Current Industry', 'What COL is your region?', 'Gender', 'Line of Service'])\n",
    "us_dummies.head()"
   ]
  },
  {
   "cell_type": "markdown",
   "metadata": {},
   "source": [
    "# Finished!  Exporting the cleaned us_accounting results to CSV for analysis"
   ]
  },
  {
   "cell_type": "code",
   "execution_count": 109,
   "metadata": {},
   "outputs": [],
   "source": [
    "us_accounting.to_csv('./us_accounting_clean.csv', index=False)\n",
    "us_dummies.to_csv('./us_dummies_clean.csv')"
   ]
  },
  {
   "cell_type": "markdown",
   "metadata": {},
   "source": [
    "## Rows that still needs cleaning"
   ]
  },
  {
   "cell_type": "markdown",
   "metadata": {},
   "source": [
    "Years Public Before exit should be > 0 here if the person is indicating they have already exited from a Big 4 Accounting firm, yet it isn't.  We could impute a value, but the mean and median are both over 3, so they don't make sense to impute when the person only has 2.5 years experience.  I'm unsure how to proceed, but the best case may be to drop this entry."
   ]
  },
  {
   "cell_type": "code",
   "execution_count": 110,
   "metadata": {},
   "outputs": [
    {
     "data": {
      "text/html": [
       "<div>\n",
       "<style scoped>\n",
       "    .dataframe tbody tr th:only-of-type {\n",
       "        vertical-align: middle;\n",
       "    }\n",
       "\n",
       "    .dataframe tbody tr th {\n",
       "        vertical-align: top;\n",
       "    }\n",
       "\n",
       "    .dataframe thead th {\n",
       "        text-align: right;\n",
       "    }\n",
       "</style>\n",
       "<table border=\"1\" class=\"dataframe\">\n",
       "  <thead>\n",
       "    <tr style=\"text-align: right;\">\n",
       "      <th></th>\n",
       "      <th>Exit Status</th>\n",
       "      <th>Has CPA</th>\n",
       "      <th>Years Experience</th>\n",
       "      <th>Current Salary + Bonus</th>\n",
       "      <th>Years Public Before Exit</th>\n",
       "      <th>Current Industry</th>\n",
       "      <th>What COL is your region?</th>\n",
       "      <th>Gender</th>\n",
       "      <th>Line of Service</th>\n",
       "      <th>Average Hours Per Week</th>\n",
       "    </tr>\n",
       "  </thead>\n",
       "  <tbody>\n",
       "    <tr>\n",
       "      <th>416</th>\n",
       "      <td>I have already exited from a Big 4 Accounting ...</td>\n",
       "      <td>No</td>\n",
       "      <td>2.5</td>\n",
       "      <td>110000.0</td>\n",
       "      <td>0.0</td>\n",
       "      <td>Technology</td>\n",
       "      <td>High</td>\n",
       "      <td>Male</td>\n",
       "      <td>Audit</td>\n",
       "      <td>40.0</td>\n",
       "    </tr>\n",
       "  </tbody>\n",
       "</table>\n",
       "</div>"
      ],
      "text/plain": [
       "                                           Exit Status Has CPA  \\\n",
       "416  I have already exited from a Big 4 Accounting ...      No   \n",
       "\n",
       "     Years Experience  Current Salary + Bonus  Years Public Before Exit  \\\n",
       "416               2.5                110000.0                       0.0   \n",
       "\n",
       "    Current Industry What COL is your region? Gender Line of Service  \\\n",
       "416       Technology                     High   Male           Audit   \n",
       "\n",
       "     Average Hours Per Week  \n",
       "416                    40.0  "
      ]
     },
     "execution_count": 110,
     "metadata": {},
     "output_type": "execute_result"
    }
   ],
   "source": [
    "us_accounting[us_accounting['Years Public Before Exit']==0]"
   ]
  }
 ],
 "metadata": {
  "kernelspec": {
   "display_name": "Python 3",
   "language": "python",
   "name": "python3"
  },
  "language_info": {
   "codemirror_mode": {
    "name": "ipython",
    "version": 3
   },
   "file_extension": ".py",
   "mimetype": "text/x-python",
   "name": "python",
   "nbconvert_exporter": "python",
   "pygments_lexer": "ipython3",
   "version": "3.9.1"
  }
 },
 "nbformat": 4,
 "nbformat_minor": 4
}
